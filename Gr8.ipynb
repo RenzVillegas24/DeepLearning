{
 "cells": [
  {
   "cell_type": "markdown",
   "metadata": {},
   "source": [
    "### Group 8"
   ]
  },
  {
   "cell_type": "code",
   "execution_count": 1,
   "metadata": {},
   "outputs": [],
   "source": [
    "# Import Libraries\n",
    "\n",
    "import pandas as pd\n",
    "import numpy as np\n",
    "import matplotlib.pyplot as plt"
   ]
  },
  {
   "cell_type": "markdown",
   "metadata": {},
   "source": [
    "## Part 1: Data Preprocessing"
   ]
  },
  {
   "cell_type": "code",
   "execution_count": 2,
   "metadata": {},
   "outputs": [],
   "source": [
    "dataset = pd.read_csv('online_shoppers_intention.csv')"
   ]
  },
  {
   "cell_type": "code",
   "execution_count": 3,
   "metadata": {},
   "outputs": [],
   "source": [
    "# Creating the X and Y Variable\n",
    "X = dataset.iloc[:, 1:18].values\n",
    "Y = dataset.iloc[:, 17:19].values"
   ]
  },
  {
   "cell_type": "code",
   "execution_count": 4,
   "metadata": {},
   "outputs": [
    {
     "name": "stdout",
     "output_type": "stream",
     "text": [
      "<class 'pandas.core.frame.DataFrame'>\n",
      "RangeIndex: 12330 entries, 0 to 12329\n",
      "Data columns (total 18 columns):\n",
      " #   Column                   Non-Null Count  Dtype  \n",
      "---  ------                   --------------  -----  \n",
      " 0   Administrative           12330 non-null  int64  \n",
      " 1   Administrative_Duration  12330 non-null  float64\n",
      " 2   Informational            12330 non-null  int64  \n",
      " 3   Informational_Duration   12330 non-null  float64\n",
      " 4   ProductRelated           12330 non-null  int64  \n",
      " 5   ProductRelated_Duration  12330 non-null  float64\n",
      " 6   BounceRates              12330 non-null  float64\n",
      " 7   ExitRates                12330 non-null  float64\n",
      " 8   PageValues               12330 non-null  float64\n",
      " 9   SpecialDay               12330 non-null  float64\n",
      " 10  Month                    12330 non-null  object \n",
      " 11  OperatingSystems         12330 non-null  int64  \n",
      " 12  Browser                  12330 non-null  int64  \n",
      " 13  Region                   12330 non-null  int64  \n",
      " 14  TrafficType              12330 non-null  int64  \n",
      " 15  VisitorType              12330 non-null  object \n",
      " 16  Weekend                  12330 non-null  bool   \n",
      " 17  Revenue                  12330 non-null  bool   \n",
      "dtypes: bool(2), float64(7), int64(7), object(2)\n",
      "memory usage: 1.5+ MB\n"
     ]
    }
   ],
   "source": [
    "# For the Dataset Information\n",
    "dataset.info()"
   ]
  },
  {
   "cell_type": "markdown",
   "metadata": {},
   "source": [
    "### B. Encoding the Categorical Data"
   ]
  },
  {
   "cell_type": "code",
   "execution_count": 5,
   "metadata": {},
   "outputs": [],
   "source": [
    "# B.1 One Hot Encoding the \"Month\" Column to Create Dummy Variable\n",
    "\n",
    "from sklearn.preprocessing import OneHotEncoder\n",
    "from sklearn.compose import ColumnTransformer\n",
    "\n",
    "ct =  ColumnTransformer([('Month', OneHotEncoder(categories = 'auto'), [9])], remainder = 'passthrough')\n",
    "\n",
    "X = ct.fit_transform(X)"
   ]
  },
  {
   "cell_type": "code",
   "execution_count": 6,
   "metadata": {},
   "outputs": [],
   "source": [
    "# B.2. Label Encoding the \"Gender\" Column to convert it to Numeric\n",
    "\n",
    "from sklearn.preprocessing import LabelEncoder\n",
    "le = LabelEncoder()\n",
    "X[:, 23] = le.fit_transform(X[:, 23])\n",
    "X[:, 24] = le.fit_transform(X[:, 24])\n",
    "\n",
    "X = X.astype(float)\n"
   ]
  },
  {
   "cell_type": "code",
   "execution_count": 7,
   "metadata": {},
   "outputs": [],
   "source": [
    "# C. Splitting the dataset into the Training Dataset and Testing Dataset\n",
    "\n",
    "from sklearn.model_selection import train_test_split\n",
    "X_train, X_test, Y_train, Y_test = train_test_split(X, Y, train_size=0.8, test_size = 0.2, random_state = 0)"
   ]
  },
  {
   "cell_type": "code",
   "execution_count": 8,
   "metadata": {},
   "outputs": [],
   "source": [
    "# D. Perform Feature Scaling\n",
    "from sklearn.preprocessing import StandardScaler\n",
    "ss = StandardScaler()\n",
    "\n",
    "X_train_standard = X_train.copy()\n",
    "X_test_standard = X_test.copy()\n",
    "\n",
    "X_train_standard = ss.fit_transform(X_train_standard)\n",
    "X_test_standard = ss.transform(X_test_standard)"
   ]
  },
  {
   "cell_type": "markdown",
   "metadata": {},
   "source": [
    "# Part 2: Building the Artificial Neural Network Model"
   ]
  },
  {
   "cell_type": "code",
   "execution_count": 9,
   "metadata": {},
   "outputs": [
    {
     "name": "stdout",
     "output_type": "stream",
     "text": [
      "WARNING:tensorflow:From c:\\Users\\Leigh Marasigan\\anaconda3-2\\Lib\\site-packages\\keras\\src\\losses.py:2976: The name tf.losses.sparse_softmax_cross_entropy is deprecated. Please use tf.compat.v1.losses.sparse_softmax_cross_entropy instead.\n",
      "\n"
     ]
    }
   ],
   "source": [
    "# A. Import the Keras Libraries and Packages\n",
    "\n",
    "import keras\n",
    "from keras.models import Sequential\n",
    "from keras.layers import Dense\n",
    "from keras.layers import Dropout"
   ]
  },
  {
   "cell_type": "code",
   "execution_count": 10,
   "metadata": {},
   "outputs": [
    {
     "name": "stdout",
     "output_type": "stream",
     "text": [
      "WARNING:tensorflow:From c:\\Users\\Leigh Marasigan\\anaconda3-2\\Lib\\site-packages\\keras\\src\\backend.py:873: The name tf.get_default_graph is deprecated. Please use tf.compat.v1.get_default_graph instead.\n",
      "\n"
     ]
    }
   ],
   "source": [
    "# B. Initialize the ANN\n",
    "\n",
    "classifier = Sequential()"
   ]
  },
  {
   "cell_type": "code",
   "execution_count": 11,
   "metadata": {},
   "outputs": [],
   "source": [
    "# C. Adding the Input Layer and the First Hidden Layer\n",
    "classifier.add(Dense(units = 14, kernel_initializer = 'glorot_uniform', activation = 'relu', input_dim = 26))\n",
    "classifier.add(Dropout(rate = 0.1))"
   ]
  },
  {
   "cell_type": "code",
   "execution_count": 12,
   "metadata": {},
   "outputs": [],
   "source": [
    "# D. Adding the Second Hidden Layer\n",
    "classifier.add(Dense(units = 13, kernel_initializer = 'glorot_uniform', activation = 'relu'))\n",
    "classifier.add(Dropout(rate = 0.1))\n"
   ]
  },
  {
   "cell_type": "markdown",
   "metadata": {},
   "source": [
    "# E. Adding the Third Hidden Layer\n",
    "classifier.add(Dense(units = 8, kernel_initializer = 'glorot_uniform', activation = 'relu'))\n",
    "classifier.add(Dropout(rate = 0.1))\n"
   ]
  },
  {
   "cell_type": "code",
   "execution_count": 13,
   "metadata": {},
   "outputs": [],
   "source": [
    "# F. Adding the Output Layer\n",
    "classifier.add(Dense(units = 1, kernel_initializer = 'glorot_uniform', activation = 'sigmoid'))"
   ]
  },
  {
   "cell_type": "markdown",
   "metadata": {},
   "source": [
    "# Part 3: Training the ANN Model"
   ]
  },
  {
   "cell_type": "code",
   "execution_count": 15,
   "metadata": {},
   "outputs": [],
   "source": [
    "# A. Compile the ANN Model\n",
    "\n",
    "classifier.compile(optimizer = 'sgd', loss = 'binary_crossentropy' , metrics = ['accuracy'])"
   ]
  },
  {
   "cell_type": "code",
   "execution_count": 16,
   "metadata": {},
   "outputs": [
    {
     "name": "stdout",
     "output_type": "stream",
     "text": [
      "Epoch 1/50\n",
      "WARNING:tensorflow:From c:\\Users\\Leigh Marasigan\\anaconda3-2\\Lib\\site-packages\\keras\\src\\utils\\tf_utils.py:492: The name tf.ragged.RaggedTensorValue is deprecated. Please use tf.compat.v1.ragged.RaggedTensorValue instead.\n",
      "\n",
      "WARNING:tensorflow:From c:\\Users\\Leigh Marasigan\\anaconda3-2\\Lib\\site-packages\\keras\\src\\engine\\base_layer_utils.py:384: The name tf.executing_eagerly_outside_functions is deprecated. Please use tf.compat.v1.executing_eagerly_outside_functions instead.\n",
      "\n",
      "987/987 [==============================] - 3s 2ms/step - loss: 0.3011 - accuracy: 0.8725\n",
      "Epoch 2/50\n",
      "987/987 [==============================] - 2s 2ms/step - loss: 0.0640 - accuracy: 0.9855\n",
      "Epoch 3/50\n",
      "987/987 [==============================] - 2s 2ms/step - loss: 0.0290 - accuracy: 0.9937\n",
      "Epoch 4/50\n",
      "987/987 [==============================] - 2s 2ms/step - loss: 0.0170 - accuracy: 0.9970\n",
      "Epoch 5/50\n",
      "987/987 [==============================] - 2s 2ms/step - loss: 0.0129 - accuracy: 0.9969\n",
      "Epoch 6/50\n",
      "987/987 [==============================] - 2s 2ms/step - loss: 0.0106 - accuracy: 0.9977\n",
      "Epoch 7/50\n",
      "987/987 [==============================] - 2s 2ms/step - loss: 0.0083 - accuracy: 0.9980\n",
      "Epoch 8/50\n",
      "987/987 [==============================] - 2s 2ms/step - loss: 0.0067 - accuracy: 0.9987\n",
      "Epoch 9/50\n",
      "987/987 [==============================] - 2s 2ms/step - loss: 0.0051 - accuracy: 0.9988\n",
      "Epoch 10/50\n",
      "987/987 [==============================] - 2s 2ms/step - loss: 0.0053 - accuracy: 0.9987\n",
      "Epoch 11/50\n",
      "987/987 [==============================] - 2s 2ms/step - loss: 0.0045 - accuracy: 0.9993\n",
      "Epoch 12/50\n",
      "987/987 [==============================] - 2s 3ms/step - loss: 0.0038 - accuracy: 0.9993\n",
      "Epoch 13/50\n",
      "987/987 [==============================] - 2s 2ms/step - loss: 0.0052 - accuracy: 0.9988\n",
      "Epoch 14/50\n",
      "987/987 [==============================] - 2s 2ms/step - loss: 0.0029 - accuracy: 0.9993\n",
      "Epoch 15/50\n",
      "987/987 [==============================] - 2s 2ms/step - loss: 0.0024 - accuracy: 0.9996\n",
      "Epoch 16/50\n",
      "987/987 [==============================] - 2s 2ms/step - loss: 0.0025 - accuracy: 0.9992\n",
      "Epoch 17/50\n",
      "987/987 [==============================] - 2s 2ms/step - loss: 0.0023 - accuracy: 0.9996\n",
      "Epoch 18/50\n",
      "987/987 [==============================] - 2s 2ms/step - loss: 0.0022 - accuracy: 0.9998\n",
      "Epoch 19/50\n",
      "987/987 [==============================] - 2s 2ms/step - loss: 0.0027 - accuracy: 0.9996\n",
      "Epoch 20/50\n",
      "987/987 [==============================] - 2s 2ms/step - loss: 0.0017 - accuracy: 0.9996\n",
      "Epoch 21/50\n",
      "987/987 [==============================] - 2s 2ms/step - loss: 0.0020 - accuracy: 0.9996\n",
      "Epoch 22/50\n",
      "987/987 [==============================] - 2s 3ms/step - loss: 0.0019 - accuracy: 0.9997\n",
      "Epoch 23/50\n",
      "987/987 [==============================] - 2s 2ms/step - loss: 0.0019 - accuracy: 0.9996\n",
      "Epoch 24/50\n",
      "987/987 [==============================] - 2s 2ms/step - loss: 0.0019 - accuracy: 0.9995\n",
      "Epoch 25/50\n",
      "987/987 [==============================] - 2s 2ms/step - loss: 0.0015 - accuracy: 0.9997\n",
      "Epoch 26/50\n",
      "987/987 [==============================] - 2s 2ms/step - loss: 0.0010 - accuracy: 0.9998\n",
      "Epoch 27/50\n",
      "987/987 [==============================] - 2s 2ms/step - loss: 0.0012 - accuracy: 0.9997\n",
      "Epoch 28/50\n",
      "987/987 [==============================] - 2s 2ms/step - loss: 0.0014 - accuracy: 0.9997\n",
      "Epoch 29/50\n",
      "987/987 [==============================] - 2s 2ms/step - loss: 0.0010 - accuracy: 0.9999\n",
      "Epoch 30/50\n",
      "987/987 [==============================] - 2s 2ms/step - loss: 0.0011 - accuracy: 0.9999\n",
      "Epoch 31/50\n",
      "987/987 [==============================] - 2s 2ms/step - loss: 9.5370e-04 - accuracy: 0.9998\n",
      "Epoch 32/50\n",
      "987/987 [==============================] - 2s 2ms/step - loss: 0.0010 - accuracy: 0.9999\n",
      "Epoch 33/50\n",
      "987/987 [==============================] - 2s 2ms/step - loss: 0.0012 - accuracy: 0.9997\n",
      "Epoch 34/50\n",
      "987/987 [==============================] - 2s 2ms/step - loss: 9.2768e-04 - accuracy: 0.9999\n",
      "Epoch 35/50\n",
      "987/987 [==============================] - 2s 2ms/step - loss: 0.0015 - accuracy: 0.9997\n",
      "Epoch 36/50\n",
      "987/987 [==============================] - 2s 2ms/step - loss: 8.7517e-04 - accuracy: 0.9998\n",
      "Epoch 37/50\n",
      "987/987 [==============================] - 2s 2ms/step - loss: 6.2834e-04 - accuracy: 0.9999\n",
      "Epoch 38/50\n",
      "987/987 [==============================] - 2s 2ms/step - loss: 6.7477e-04 - accuracy: 0.9999\n",
      "Epoch 39/50\n",
      "987/987 [==============================] - 2s 2ms/step - loss: 0.0011 - accuracy: 0.9998\n",
      "Epoch 40/50\n",
      "987/987 [==============================] - 2s 2ms/step - loss: 8.8942e-04 - accuracy: 0.9998\n",
      "Epoch 41/50\n",
      "987/987 [==============================] - 2s 2ms/step - loss: 8.4396e-04 - accuracy: 0.9999\n",
      "Epoch 42/50\n",
      "987/987 [==============================] - 2s 2ms/step - loss: 7.6910e-04 - accuracy: 0.9999\n",
      "Epoch 43/50\n",
      "987/987 [==============================] - 2s 2ms/step - loss: 8.9866e-04 - accuracy: 0.9999\n",
      "Epoch 44/50\n",
      "987/987 [==============================] - 2s 2ms/step - loss: 5.5224e-04 - accuracy: 1.0000\n",
      "Epoch 45/50\n",
      "987/987 [==============================] - 2s 2ms/step - loss: 5.6339e-04 - accuracy: 1.0000\n",
      "Epoch 46/50\n",
      "987/987 [==============================] - 2s 2ms/step - loss: 0.0012 - accuracy: 0.9998\n",
      "Epoch 47/50\n",
      "987/987 [==============================] - 2s 2ms/step - loss: 9.5852e-04 - accuracy: 0.9996\n",
      "Epoch 48/50\n",
      "987/987 [==============================] - 2s 2ms/step - loss: 9.4896e-04 - accuracy: 0.9997\n",
      "Epoch 49/50\n",
      "987/987 [==============================] - 2s 2ms/step - loss: 5.0692e-04 - accuracy: 1.0000\n",
      "Epoch 50/50\n",
      "987/987 [==============================] - 2s 2ms/step - loss: 0.0011 - accuracy: 0.9999\n"
     ]
    },
    {
     "data": {
      "text/plain": [
       "<keras.src.callbacks.History at 0x24b979a2dd0>"
      ]
     },
     "execution_count": 16,
     "metadata": {},
     "output_type": "execute_result"
    }
   ],
   "source": [
    "# B. Fitting the ANN Model on the Training Dataset\n",
    "\n",
    "classifier.fit(X_train_standard, Y_train, batch_size = 10, epochs = 50)"
   ]
  },
  {
   "cell_type": "markdown",
   "metadata": {},
   "source": [
    "## Part 4: Making Predictions and Evaluating the ANN Model"
   ]
  },
  {
   "cell_type": "code",
   "execution_count": 17,
   "metadata": {},
   "outputs": [
    {
     "name": "stdout",
     "output_type": "stream",
     "text": [
      "78/78 [==============================] - 0s 2ms/step\n"
     ]
    }
   ],
   "source": [
    "# A. Predict the Output of the Testing Dataset\n",
    "\n",
    "Y_predict_probability = classifier.predict(X_test_standard)\n",
    "Y_predict = np.rint(Y_predict_probability)"
   ]
  },
  {
   "cell_type": "code",
   "execution_count": 18,
   "metadata": {},
   "outputs": [
    {
     "data": {
      "text/plain": [
       "Text(95.72222222222221, 0.5, 'Actual Value')"
      ]
     },
     "execution_count": 18,
     "metadata": {},
     "output_type": "execute_result"
    },
    {
     "data": {
      "image/png": "[encoded data removed]",
      "text/plain": [
       "<Figure size 1000x700 with 2 Axes>"
      ]
     },
     "metadata": {},
     "output_type": "display_data"
    }
   ],
   "source": [
    "# B. To Generate and Plot the Confusion Matrix\n",
    "from sklearn.metrics import confusion_matrix\n",
    "confusion_matrix = confusion_matrix(Y_test, Y_predict)\n",
    "\n",
    "import seaborn as sns\n",
    "plt.figure(figsize = (10, 7))\n",
    "sns.heatmap(confusion_matrix, annot = True)\n",
    "plt.xlabel('Predicted Value')\n",
    "plt.ylabel('Actual Value')"
   ]
  },
  {
   "cell_type": "code",
   "execution_count": 19,
   "metadata": {},
   "outputs": [
    {
     "name": "stdout",
     "output_type": "stream",
     "text": [
      "Hold-Out Accuracy:\n",
      "1.0\n",
      " \n"
     ]
    }
   ],
   "source": [
    "# C. Computing the Hold-Out Accuracy\n",
    "from sklearn.metrics import accuracy_score\n",
    "accuracy = accuracy_score(Y_test, Y_predict)\n",
    "print(\"Hold-Out Accuracy:\")\n",
    "print(accuracy)\n",
    "print(\" \")"
   ]
  },
  {
   "cell_type": "code",
   "execution_count": 20,
   "metadata": {},
   "outputs": [
    {
     "name": "stdout",
     "output_type": "stream",
     "text": [
      "Classification Report:\n",
      "              precision    recall  f1-score   support\n",
      "\n",
      "       False       1.00      1.00      1.00      2044\n",
      "        True       1.00      1.00      1.00       422\n",
      "\n",
      "    accuracy                           1.00      2466\n",
      "   macro avg       1.00      1.00      1.00      2466\n",
      "weighted avg       1.00      1.00      1.00      2466\n",
      "\n"
     ]
    }
   ],
   "source": [
    "# D. Generating the Classification Report\n",
    "from sklearn.metrics import classification_report\n",
    "print('Classification Report:')\n",
    "print(classification_report(Y_test, Y_predict))"
   ]
  },
  {
   "cell_type": "markdown",
   "metadata": {},
   "source": [
    "## Part 5: Perform K-Fold Cross Validation to Assess the ANN Model Performance"
   ]
  },
  {
   "cell_type": "code",
   "execution_count": 22,
   "metadata": {},
   "outputs": [],
   "source": [
    "# A. To Feature SCale the X Variable Using the StandardScaler\n",
    "\n",
    "X_standard = X.copy()\n",
    "X_standard = ss.fit_transform(X_standard)"
   ]
  },
  {
   "cell_type": "code",
   "execution_count": 29,
   "metadata": {},
   "outputs": [],
   "source": [
    "# B. Building the ANN Classifier Using KerasClassifier\n",
    "from scikeras.wrappers import KerasClassifier\n",
    "\n",
    "def classifier():\n",
    "    classifier = Sequential()\n",
    "    classifier.add(Dense(units = 14, kernel_initializer = 'glorot_uniform', activation = 'relu', input_dim = 26))\n",
    "    classifier.add(Dropout(rate = 0.1))\n",
    "    classifier.add(Dense(units = 13, kernel_initializer = 'glorot_uniform', activation = 'relu'))\n",
    "    classifier.add(Dropout(rate = 0.1))\n",
    "    classifier.add(Dense(units = 1, kernel_initializer = 'glorot_uniform', activation = 'sigmoid'))\n",
    "    classifier.compile(optimizer = 'sgd', loss = 'binary_crossentropy', metrics = ['accuracy'])\n",
    "    return classifier\n",
    "\n",
    "ann_model = KerasClassifier(model=classifier, batch_size=10, epochs = 50, verbose = 0)\n"
   ]
  },
  {
   "cell_type": "code",
   "execution_count": 30,
   "metadata": {},
   "outputs": [],
   "source": [
    "# C. Import the StratifieKFold Class\n",
    "\n",
    "from sklearn.model_selection import StratifiedKFold\n"
   ]
  },
  {
   "cell_type": "code",
   "execution_count": 31,
   "metadata": {},
   "outputs": [],
   "source": [
    "# D. Import the Cross Val Score Class\n",
    "\n",
    "from sklearn.model_selection import cross_val_score\n",
    "k_fold = StratifiedKFold(n_splits = 10, shuffle = True, random_state=0)"
   ]
  },
  {
   "cell_type": "code",
   "execution_count": 32,
   "metadata": {},
   "outputs": [
    {
     "name": "stdout",
     "output_type": "stream",
     "text": [
      "Accuracies of k-folds: [1. 1. 1. 1. 1. 1. 1. 1. 1. 1.]\n",
      " \n",
      "Average of the Accuracies of k-folds: 1.0\n",
      " \n",
      "Standard Deviation of the Accuracies of k-foldsP: 0.0\n",
      " \n"
     ]
    }
   ],
   "source": [
    "# For the Accuracy as Scoring Metrics for the Cross-Validation\n",
    "accuracies = cross_val_score(estimator=ann_model, X = X_standard, y = Y, cv = k_fold, scoring = \"accuracy\", n_jobs = -1)\n",
    "accuracies_average = accuracies.mean()\n",
    "accuracies_standard_deviation = accuracies.std()\n",
    "\n",
    "print('Accuracies of k-folds:', accuracies)\n",
    "print(\" \")\n",
    "print(\"Average of the Accuracies of k-folds:\", accuracies_average)\n",
    "print(\" \")\n",
    "print('Standard Deviation of the Accuracies of k-foldsP:', accuracies_standard_deviation)\n",
    "print(\" \")\n"
   ]
  },
  {
   "cell_type": "code",
   "execution_count": 33,
   "metadata": {},
   "outputs": [
    {
     "name": "stdout",
     "output_type": "stream",
     "text": [
      "F1-Score of the k-folds: [1. 1. 1. 1. 1. 1. 1. 1. 1. 1.]\n",
      " \n",
      "Average of F1-Score of the k-folds: 1.0\n",
      " \n",
      "Standard Deviation of F1-Score of the k-fold: 0.0\n",
      " \n"
     ]
    }
   ],
   "source": [
    "# For the F1 as Scoring Metrics for the Cross-Validation\n",
    "f1 =  (cross_val_score(estimator = ann_model, X = X_standard, y = Y, cv = k_fold, scoring = 'f1', n_jobs = -1))\n",
    "f1_average = f1.mean()\n",
    "f1__standard_deviation = f1.std()\n",
    "\n",
    "print('F1-Score of the k-folds:', f1)\n",
    "print(\" \")\n",
    "print('Average of F1-Score of the k-folds:', f1_average)\n",
    "print(\" \")\n",
    "print('Standard Deviation of F1-Score of the k-fold:', f1__standard_deviation)\n",
    "print(' ')"
   ]
  },
  {
   "cell_type": "code",
   "execution_count": 34,
   "metadata": {},
   "outputs": [
    {
     "name": "stdout",
     "output_type": "stream",
     "text": [
      "Precision of the k-folds: [1. 1. 1. 1. 1. 1. 1. 1. 1. 1.]\n",
      " \n",
      "Average of Precision of the k-folds: 1.0\n",
      " \n",
      "Standard Deviation of Precision of the k-fold: 0.0\n",
      " \n"
     ]
    }
   ],
   "source": [
    "# For the Precision as Scoring Metrics for the Cross-Validation\n",
    "precision =  (cross_val_score(estimator = ann_model, X = X_standard, y = Y, cv = k_fold, scoring = 'precision', n_jobs = -1))\n",
    "precision_average = precision.mean()\n",
    "precision__standard_deviation = precision.std()\n",
    "\n",
    "print('Precision of the k-folds:', precision)\n",
    "print(\" \")\n",
    "print('Average of Precision of the k-folds:', precision_average)\n",
    "print(\" \")\n",
    "print('Standard Deviation of Precision of the k-fold:', precision__standard_deviation)\n",
    "print(' ')"
   ]
  },
  {
   "cell_type": "code",
   "execution_count": 35,
   "metadata": {},
   "outputs": [
    {
     "name": "stdout",
     "output_type": "stream",
     "text": [
      "Recall of the k-folds: [1. 1. 1. 1. 1. 1. 1. 1. 1. 1.]\n",
      " \n",
      "Average of Recall of the k-folds: 1.0\n",
      " \n",
      "Standard Deviation of Recall of the k-fold: 0.0\n",
      " \n"
     ]
    }
   ],
   "source": [
    "# For the Recall as Scoring Metrics for the Cross-Validation\n",
    "recall =  (cross_val_score(estimator = ann_model, X = X_standard, y = Y, cv = k_fold, scoring = 'recall', n_jobs = -1))\n",
    "recall_average = recall.mean()\n",
    "recall__standard_deviation = recall.std()\n",
    "\n",
    "print('Recall of the k-folds:', recall)\n",
    "print(\" \")\n",
    "print('Average of Recall of the k-folds:', recall_average)\n",
    "print(\" \")\n",
    "print('Standard Deviation of Recall of the k-fold:', recall__standard_deviation)\n",
    "print(' ')"
   ]
  },
  {
   "cell_type": "code",
   "execution_count": 38,
   "metadata": {},
   "outputs": [
    {
     "name": "stdout",
     "output_type": "stream",
     "text": [
      "ROC-AUC of the k-folds: [1. 1. 1. 1. 1. 1. 1. 1. 1. 1.]\n",
      " \n",
      "Average of ROC-AUC of the k-folds: 1.0\n",
      " \n",
      "Standard Deviation of ROC-AUC of the k-fold: 0.0\n",
      " \n"
     ]
    }
   ],
   "source": [
    "# For the Roc-Auc as Scoring Metrics for the Cross-Validation\n",
    "rocauc =  (cross_val_score(estimator = ann_model, X = X_standard, y = Y, cv = k_fold, scoring = 'roc_auc', n_jobs = -1))\n",
    "rocauc_average = rocauc.mean()\n",
    "rocauc__standard_deviation = rocauc.std()\n",
    "\n",
    "print('ROC-AUC of the k-folds:', rocauc)\n",
    "print(\" \")\n",
    "print('Average of ROC-AUC of the k-folds:', rocauc_average)\n",
    "print(\" \")\n",
    "print('Standard Deviation of ROC-AUC of the k-fold:', rocauc__standard_deviation)\n",
    "print(' ')"
   ]
  },
  {
   "cell_type": "markdown",
   "metadata": {},
   "source": [
    "### Hold Out Validation"
   ]
  },
  {
   "cell_type": "code",
   "execution_count": 39,
   "metadata": {},
   "outputs": [
    {
     "name": "stdout",
     "output_type": "stream",
     "text": [
      "Classification Accuracy: 1.0000\n",
      "\n"
     ]
    }
   ],
   "source": [
    "# A. For the Classification Accuracy\n",
    "\n",
    "from sklearn.metrics import accuracy_score\n",
    "classification_accuracy = accuracy_score(Y_test, Y_predict)\n",
    "print('Classification Accuracy: %.4f'\n",
    "      %classification_accuracy)\n",
    "print('')\n"
   ]
  },
  {
   "cell_type": "code",
   "execution_count": 40,
   "metadata": {},
   "outputs": [
    {
     "name": "stdout",
     "output_type": "stream",
     "text": [
      "Classification Error: 0.0000\n",
      "\n"
     ]
    }
   ],
   "source": [
    "# B. For the Classification Error\n",
    "classification_error = 1 - classification_accuracy\n",
    "print('Classification Error: %.4f'\n",
    "      %classification_error)\n",
    "print('')"
   ]
  },
  {
   "cell_type": "code",
   "execution_count": 41,
   "metadata": {},
   "outputs": [
    {
     "name": "stdout",
     "output_type": "stream",
     "text": [
      "Sensitivity: 1.0000\n",
      "\n"
     ]
    }
   ],
   "source": [
    "# C. For the Sensitivity, Recall Score, Probablity of Detection, True Positive Rate\n",
    "from sklearn.metrics import recall_score\n",
    "sensitivity = recall_score(Y_test, Y_predict, average = 'weighted')\n",
    "print('Sensitivity: %.4f'\n",
    "      %sensitivity)\n",
    "print('')"
   ]
  },
  {
   "cell_type": "code",
   "execution_count": 43,
   "metadata": {},
   "outputs": [
    {
     "name": "stdout",
     "output_type": "stream",
     "text": [
      "Precision Score: 1.0000\n",
      "\n"
     ]
    }
   ],
   "source": [
    "# G. For the Precision or Positive Predictive Value\n",
    "from sklearn.metrics import precision_score\n",
    "precision_score = precision_score(Y_test, Y_predict, average = 'weighted')\n",
    "print('Precision Score: %.4f'\n",
    "      %precision_score)\n",
    "print('')"
   ]
  },
  {
   "cell_type": "code",
   "execution_count": 44,
   "metadata": {},
   "outputs": [
    {
     "name": "stdout",
     "output_type": "stream",
     "text": [
      "F1-Score: 1.0000\n",
      "\n"
     ]
    }
   ],
   "source": [
    "# H. For the F1-Score\n",
    "from sklearn.metrics import f1_score\n",
    "f1_score = f1_score(Y_test, Y_predict, average = 'weighted')\n",
    "print('F1-Score: %.4f'\n",
    "      %f1_score)\n",
    "print('')"
   ]
  },
  {
   "cell_type": "markdown",
   "metadata": {},
   "source": [
    "# Part 7: Performing Hyperparameter Tuning to Optimized the ANN"
   ]
  },
  {
   "cell_type": "markdown",
   "metadata": {},
   "source": [
    "### A. Tune First the Batch Size and Epochs"
   ]
  },
  {
   "cell_type": "code",
   "execution_count": 45,
   "metadata": {},
   "outputs": [],
   "source": [
    "# A.1, Build the ANN Model for the Optimization Process\n",
    "from scikeras.wrappers import KerasClassifier\n",
    "\n",
    "def classifier_optimization():\n",
    "    classifier_optimization = Sequential()\n",
    "    classifier_optimization.add(Dense(units = 14, kernel_initializer = 'glorot_uniform', activation = 'relu', input_dim = 26))\n",
    "    classifier_optimization.add(Dense(units = 13, kernel_initializer = 'glorot_uniform', activation = 'relu'))\n",
    "    classifier_optimization.add(Dense(units = 1, kernel_initializer = 'glorot_uniform', activation = 'sigmoid'))\n",
    "    classifier_optimization.compile(optimizer = 'sgd', loss = 'binary_crossentropy', metrics = ['accuracy'])\n",
    "    return classifier_optimization\n",
    "\n",
    "ann_model_optimization = KerasClassifier(model=classifier_optimization, verbose = 0)"
   ]
  },
  {
   "cell_type": "code",
   "execution_count": 46,
   "metadata": {},
   "outputs": [],
   "source": [
    "# A.2. To Import The GridSearchCV class\n",
    "from sklearn.model_selection import GridSearchCV"
   ]
  },
  {
   "cell_type": "code",
   "execution_count": 47,
   "metadata": {},
   "outputs": [
    {
     "name": "stdout",
     "output_type": "stream",
     "text": [
      "GridSearchCV(cv=StratifiedKFold(n_splits=10, random_state=0, shuffle=True),\n",
      "             estimator=KerasClassifier(model=<function classifier_optimization at 0x0000024B9D603EC0>, verbose=0),\n",
      "             n_jobs=-1,\n",
      "             param_grid={'batch_size': [50, 100, 150, 200, 250],\n",
      "                         'epochs': [10, 50, 100, 150, 200]},\n",
      "             scoring='accuracy')\n"
     ]
    }
   ],
   "source": [
    "# A.3. To Set Parameters to be Optimized for the ANN Model\n",
    "parameters = {'batch_size': [50, 100, 150, 200, 250],\n",
    "              'epochs': [10, 50, 100, 150, 200]}\n",
    "grid_search = GridSearchCV(estimator = ann_model_optimization, \n",
    "                           param_grid = parameters,\n",
    "                           scoring = 'accuracy',\n",
    "                           cv = k_fold,\n",
    "                           n_jobs = -1)\n",
    "\n",
    "grid_search = grid_search.fit(X_standard, Y)\n",
    "print(grid_search)"
   ]
  },
  {
   "cell_type": "code",
   "execution_count": 48,
   "metadata": {},
   "outputs": [
    {
     "name": "stdout",
     "output_type": "stream",
     "text": [
      "    mean_test_score  std_test_score                              params\n",
      "0          0.999757        0.000519    {'batch_size': 50, 'epochs': 10}\n",
      "1          0.999838        0.000487    {'batch_size': 50, 'epochs': 50}\n",
      "2          0.999919        0.000243   {'batch_size': 50, 'epochs': 100}\n",
      "3          1.000000        0.000000   {'batch_size': 50, 'epochs': 150}\n",
      "4          1.000000        0.000000   {'batch_size': 50, 'epochs': 200}\n",
      "5          0.995215        0.003233   {'batch_size': 100, 'epochs': 10}\n",
      "6          0.999838        0.000324   {'batch_size': 100, 'epochs': 50}\n",
      "7          1.000000        0.000000  {'batch_size': 100, 'epochs': 100}\n",
      "8          1.000000        0.000000  {'batch_size': 100, 'epochs': 150}\n",
      "9          0.999919        0.000243  {'batch_size': 100, 'epochs': 200}\n",
      "10         0.961233        0.043704   {'batch_size': 150, 'epochs': 10}\n",
      "11         0.999513        0.000973   {'batch_size': 150, 'epochs': 50}\n",
      "12         1.000000        0.000000  {'batch_size': 150, 'epochs': 100}\n",
      "13         0.999919        0.000243  {'batch_size': 150, 'epochs': 150}\n",
      "14         0.999919        0.000243  {'batch_size': 150, 'epochs': 200}\n",
      "15         0.931144        0.046774   {'batch_size': 200, 'epochs': 10}\n",
      "16         0.999513        0.000397   {'batch_size': 200, 'epochs': 50}\n",
      "17         0.999838        0.000324  {'batch_size': 200, 'epochs': 100}\n",
      "18         0.999838        0.000487  {'batch_size': 200, 'epochs': 150}\n",
      "19         1.000000        0.000000  {'batch_size': 200, 'epochs': 200}\n",
      "20         0.946148        0.030509   {'batch_size': 250, 'epochs': 10}\n",
      "21         0.999270        0.000568   {'batch_size': 250, 'epochs': 50}\n",
      "22         0.999594        0.000748  {'batch_size': 250, 'epochs': 100}\n",
      "23         1.000000        0.000000  {'batch_size': 250, 'epochs': 150}\n",
      "24         0.999838        0.000324  {'batch_size': 250, 'epochs': 200}\n"
     ]
    }
   ],
   "source": [
    "# A.4. To View the Results of the GridSearchCV\n",
    "results = pd.DataFrame(grid_search.cv_results_)[['mean_test_score', 'std_test_score', 'params']]\n",
    "print(results)"
   ]
  },
  {
   "cell_type": "code",
   "execution_count": 49,
   "metadata": {},
   "outputs": [
    {
     "name": "stdout",
     "output_type": "stream",
     "text": [
      "Best Accuracy Score:\n",
      "1.0\n",
      " \n",
      "Best Parameters:\n",
      "{'batch_size': 50, 'epochs': 150}\n",
      " \n"
     ]
    }
   ],
   "source": [
    "# A.5. To Identify the Best Accuracy and the Best Features\n",
    "best_parameters = grid_search.best_params_\n",
    "best_accuracy = grid_search.best_score_\n",
    "\n",
    "print(\"Best Accuracy Score:\")\n",
    "print(best_accuracy)\n",
    "print(\" \")\n",
    "print(\"Best Parameters:\")\n",
    "print(best_parameters)\n",
    "print(\" \")"
   ]
  },
  {
   "cell_type": "markdown",
   "metadata": {},
   "source": [
    "### B. Tune Next the Optimizer"
   ]
  },
  {
   "cell_type": "code",
   "execution_count": 50,
   "metadata": {},
   "outputs": [],
   "source": [
    "# B.1, Build the ANN Model for the Optimization Process\n",
    "from scikeras.wrappers import KerasClassifier\n",
    "\n",
    "def classifier_optimization(optimizer=\"sgd\"):\n",
    "    classifier_optimization = Sequential()\n",
    "    classifier_optimization.add(Dense(units = 14, kernel_initializer = 'glorot_uniform', activation = 'relu', input_dim = 26))\n",
    "    classifier_optimization.add(Dense(units = 13, kernel_initializer = 'glorot_uniform', activation = 'relu'))\n",
    "    classifier_optimization.add(Dense(units = 1, kernel_initializer = 'glorot_uniform', activation = 'sigmoid'))\n",
    "    classifier_optimization.compile(optimizer = optimizer, loss = 'binary_crossentropy', metrics = ['accuracy'])\n",
    "    return classifier_optimization\n",
    "\n",
    "ann_model_optimization = KerasClassifier(model=classifier_optimization, epochs = 150, batch_size = 50, verbose = 0)"
   ]
  },
  {
   "cell_type": "code",
   "execution_count": 51,
   "metadata": {},
   "outputs": [],
   "source": [
    "# B.2. To Import The GridSearchCV class\n",
    "from sklearn.model_selection import GridSearchCV"
   ]
  },
  {
   "cell_type": "code",
   "execution_count": 52,
   "metadata": {},
   "outputs": [
    {
     "name": "stdout",
     "output_type": "stream",
     "text": [
      "GridSearchCV(cv=StratifiedKFold(n_splits=10, random_state=0, shuffle=True),\n",
      "             estimator=KerasClassifier(batch_size=50, epochs=150, model=<function classifier_optimization at 0x0000024B9D600040>, verbose=0),\n",
      "             n_jobs=-1,\n",
      "             param_grid={'optimizer': ['adam', 'sgd', 'rmsprop', 'adamW',\n",
      "                                       'adadelta', 'adagrad', 'adamax',\n",
      "                                       'adafactor', 'aadam', 'ftrl', 'lion',\n",
      "                                       'Loss Scale Optimizer']},\n",
      "             scoring='accuracy')\n"
     ]
    }
   ],
   "source": [
    "# B.3. To Set Parameters to be Optimized for the ANN Model\n",
    "parameters = {'optimizer': ['adam', 'sgd', 'rmsprop', 'adamW', 'adadelta', 'adagrad', 'adamax', 'adafactor', 'aadam', 'ftrl', 'lion', 'Loss Scale Optimizer']}\n",
    "\n",
    "grid_search = GridSearchCV(estimator = ann_model_optimization, \n",
    "                           param_grid = parameters,\n",
    "                           scoring = 'accuracy',\n",
    "                           cv = k_fold,\n",
    "                           n_jobs = -1)\n",
    "\n",
    "grid_search = grid_search.fit(X_standard, Y)\n",
    "print(grid_search)\n"
   ]
  },
  {
   "cell_type": "code",
   "execution_count": 53,
   "metadata": {},
   "outputs": [
    {
     "name": "stdout",
     "output_type": "stream",
     "text": [
      "    mean_test_score  std_test_score                                 params\n",
      "0          1.000000        0.000000                  {'optimizer': 'adam'}\n",
      "1          1.000000        0.000000                   {'optimizer': 'sgd'}\n",
      "2          1.000000        0.000000               {'optimizer': 'rmsprop'}\n",
      "3          1.000000        0.000000                 {'optimizer': 'adamW'}\n",
      "4          0.999838        0.000324              {'optimizer': 'adadelta'}\n",
      "5          1.000000        0.000000               {'optimizer': 'adagrad'}\n",
      "6          1.000000        0.000000                {'optimizer': 'adamax'}\n",
      "7          1.000000        0.000000             {'optimizer': 'adafactor'}\n",
      "8          1.000000        0.000000                 {'optimizer': 'aadam'}\n",
      "9          1.000000        0.000000                  {'optimizer': 'ftrl'}\n",
      "10         0.999919        0.000243                  {'optimizer': 'lion'}\n",
      "11         1.000000        0.000000  {'optimizer': 'Loss Scale Optimizer'}\n"
     ]
    }
   ],
   "source": [
    "# B.4. To View the Results of the GridSearchCV\n",
    "results = pd.DataFrame(grid_search.cv_results_)[['mean_test_score', 'std_test_score', 'params']]\n",
    "print(results)\n"
   ]
  },
  {
   "cell_type": "code",
   "execution_count": 54,
   "metadata": {},
   "outputs": [
    {
     "name": "stdout",
     "output_type": "stream",
     "text": [
      "Best Accuracy Score:\n",
      "1.0\n",
      " \n",
      "Best Parameters:\n",
      "{'optimizer': 'adam'}\n",
      " \n"
     ]
    }
   ],
   "source": [
    "# B.5. To Identify the Best Accuracy and the Best Features\n",
    "best_parameters = grid_search.best_params_\n",
    "best_accuracy = grid_search.best_score_\n",
    "\n",
    "print(\"Best Accuracy Score:\")\n",
    "print(best_accuracy)\n",
    "print(\" \")\n",
    "print(\"Best Parameters:\")\n",
    "print(best_parameters)\n",
    "print(\" \")"
   ]
  },
  {
   "cell_type": "markdown",
   "metadata": {},
   "source": [
    "### C. Tune Next the Optimizer's Learning Rate and Momentum"
   ]
  },
  {
   "cell_type": "code",
   "execution_count": 66,
   "metadata": {},
   "outputs": [],
   "source": [
    "# C.1. Build the ANN Model for the Optimization Process\n",
    "from scikeras.wrappers import KerasClassifier\n",
    "from tensorflow.keras.optimizers import Adam # Import always yung nahanap na best optimizer sa taas, need lagi iimport, MAGBASED SA LINK KUNG PAANO IIIMPORT AND YUNG DOCUMENTATION NG BAWAT OPTIMIZER\n",
    "\n",
    "def classifier_optimization(learning_rate, ema_momentum):\n",
    "    classifier_optimization = Sequential()\n",
    "    classifier_optimization.add(Dense(units = 14, kernel_initializer = 'glorot_uniform', activation = 'relu', input_dim = 26))\n",
    "    classifier_optimization.add(Dense(units = 13, kernel_initializer = 'glorot_uniform', activation = 'relu'))\n",
    "    classifier_optimization.add(Dense(units = 1, kernel_initializer = 'glorot_uniform', activation = 'sigmoid'))\n",
    "    optimizer_setting = Adam(learning_rate = learning_rate, ema_momentum = ema_momentum)\n",
    "    classifier_optimization.compile(optimizer = optimizer_setting, loss = 'binary_crossentropy', metrics = ['accuracy'])\n",
    "    return classifier_optimization\n",
    "\n",
    "ann_model_optimization = KerasClassifier(model=classifier_optimization, epochs = 150, batch_size = 50, learning_rate = 0.001, ema_momentum = 0.99, verbose = 0)\n"
   ]
  },
  {
   "cell_type": "code",
   "execution_count": 67,
   "metadata": {},
   "outputs": [],
   "source": [
    "# C.2. To Import The GridSearchCV class\n",
    "from sklearn.model_selection import GridSearchCV"
   ]
  },
  {
   "cell_type": "code",
   "execution_count": 69,
   "metadata": {},
   "outputs": [
    {
     "name": "stderr",
     "output_type": "stream",
     "text": [
      "c:\\Users\\Leigh Marasigan\\anaconda3-2\\Lib\\site-packages\\joblib\\externals\\loky\\process_executor.py:700: UserWarning: A worker stopped while some jobs were given to the executor. This can be caused by a too short worker timeout or by a memory leak.\n",
      "  warnings.warn(\n"
     ]
    },
    {
     "name": "stdout",
     "output_type": "stream",
     "text": [
      "GridSearchCV(cv=StratifiedKFold(n_splits=10, random_state=0, shuffle=True),\n",
      "             estimator=KerasClassifier(batch_size=50, ema_momentum=0.99, epochs=150, learning_rate=0.001, model=<function classifier_optimization at 0x0000024B9F36DC60>, verbose=0),\n",
      "             n_jobs=-1,\n",
      "             param_grid={'ema_momentum': [1, 1.5, 2, 3, 0.8, 0.99],\n",
      "                         'learning_rate': [0.001, 0.01, 0.1, 1]},\n",
      "             scoring='accuracy')\n"
     ]
    }
   ],
   "source": [
    "# C.3. To Set Parameters to be Optimized for the ANN Model\n",
    "parameters = {'learning_rate': [0.001, 0.01, 0.1, 1],\n",
    "              'ema_momentum': [1, 1.5, 2, 3, 0.8, 0.99]}\n",
    "grid_search = GridSearchCV(estimator = ann_model_optimization, \n",
    "                           param_grid = parameters,\n",
    "                           scoring = 'accuracy',\n",
    "                           cv = k_fold,\n",
    "                           n_jobs = -1)\n",
    "\n",
    "grid_search = grid_search.fit(X_standard, Y)\n",
    "print(grid_search)"
   ]
  },
  {
   "cell_type": "code",
   "execution_count": 70,
   "metadata": {},
   "outputs": [
    {
     "name": "stdout",
     "output_type": "stream",
     "text": [
      "    mean_test_score  std_test_score  \\\n",
      "0          1.000000        0.000000   \n",
      "1          1.000000        0.000000   \n",
      "2          0.999676        0.000538   \n",
      "3          0.845255        0.000324   \n",
      "4          1.000000        0.000000   \n",
      "5          1.000000        0.000000   \n",
      "6          0.999757        0.000730   \n",
      "7          0.845255        0.000324   \n",
      "8          1.000000        0.000000   \n",
      "9          1.000000        0.000000   \n",
      "10         0.999919        0.000243   \n",
      "11         0.845255        0.000324   \n",
      "12         1.000000        0.000000   \n",
      "13         1.000000        0.000000   \n",
      "14         0.999838        0.000487   \n",
      "15         0.845337        0.000372   \n",
      "16         1.000000        0.000000   \n",
      "17         1.000000        0.000000   \n",
      "18         0.999594        0.000748   \n",
      "19         0.845255        0.000324   \n",
      "20         1.000000        0.000000   \n",
      "21         1.000000        0.000000   \n",
      "22         0.999432        0.000963   \n",
      "23         0.845255        0.000324   \n",
      "\n",
      "                                            params  \n",
      "0      {'ema_momentum': 1, 'learning_rate': 0.001}  \n",
      "1       {'ema_momentum': 1, 'learning_rate': 0.01}  \n",
      "2        {'ema_momentum': 1, 'learning_rate': 0.1}  \n",
      "3          {'ema_momentum': 1, 'learning_rate': 1}  \n",
      "4    {'ema_momentum': 1.5, 'learning_rate': 0.001}  \n",
      "5     {'ema_momentum': 1.5, 'learning_rate': 0.01}  \n",
      "6      {'ema_momentum': 1.5, 'learning_rate': 0.1}  \n",
      "7        {'ema_momentum': 1.5, 'learning_rate': 1}  \n",
      "8      {'ema_momentum': 2, 'learning_rate': 0.001}  \n",
      "9       {'ema_momentum': 2, 'learning_rate': 0.01}  \n",
      "10       {'ema_momentum': 2, 'learning_rate': 0.1}  \n",
      "11         {'ema_momentum': 2, 'learning_rate': 1}  \n",
      "12     {'ema_momentum': 3, 'learning_rate': 0.001}  \n",
      "13      {'ema_momentum': 3, 'learning_rate': 0.01}  \n",
      "14       {'ema_momentum': 3, 'learning_rate': 0.1}  \n",
      "15         {'ema_momentum': 3, 'learning_rate': 1}  \n",
      "16   {'ema_momentum': 0.8, 'learning_rate': 0.001}  \n",
      "17    {'ema_momentum': 0.8, 'learning_rate': 0.01}  \n",
      "18     {'ema_momentum': 0.8, 'learning_rate': 0.1}  \n",
      "19       {'ema_momentum': 0.8, 'learning_rate': 1}  \n",
      "20  {'ema_momentum': 0.99, 'learning_rate': 0.001}  \n",
      "21   {'ema_momentum': 0.99, 'learning_rate': 0.01}  \n",
      "22    {'ema_momentum': 0.99, 'learning_rate': 0.1}  \n",
      "23      {'ema_momentum': 0.99, 'learning_rate': 1}  \n"
     ]
    }
   ],
   "source": [
    "# C.4. To View the Results of the GridSearchCV\n",
    "results = pd.DataFrame(grid_search.cv_results_)[['mean_test_score', 'std_test_score', 'params']]\n",
    "print(results)"
   ]
  },
  {
   "cell_type": "code",
   "execution_count": 71,
   "metadata": {},
   "outputs": [
    {
     "name": "stdout",
     "output_type": "stream",
     "text": [
      "Best Accuracy Score:\n",
      "1.0\n",
      " \n",
      "Best Parameters:\n",
      "{'ema_momentum': 1, 'learning_rate': 0.001}\n",
      " \n"
     ]
    }
   ],
   "source": [
    "# C.5. To Identify the Best Accuracy and the Best Features\n",
    "best_parameters = grid_search.best_params_\n",
    "best_accuracy = grid_search.best_score_\n",
    "\n",
    "print(\"Best Accuracy Score:\")\n",
    "print(best_accuracy)\n",
    "print(\" \")\n",
    "print(\"Best Parameters:\")\n",
    "print(best_parameters)\n",
    "print(\" \")\n"
   ]
  },
  {
   "cell_type": "markdown",
   "metadata": {},
   "source": [
    "### D. Tuning of Network's Weight Initialization"
   ]
  },
  {
   "cell_type": "code",
   "execution_count": 75,
   "metadata": {},
   "outputs": [],
   "source": [
    "# D.1. Build the ANN Model for the Optimization Process\n",
    "def classifier_optimization(kernel_initializer):\n",
    "    classifier_optimization = Sequential()\n",
    "    classifier_optimization.add(Dense(units = 14, kernel_initializer = kernel_initializer, activation = 'relu', input_dim = 26))\n",
    "    classifier_optimization.add(Dense(units = 13, kernel_initializer = kernel_initializer, activation = 'relu'))\n",
    "    classifier_optimization.add(Dense(units = 1, kernel_initializer = kernel_initializer, activation = 'sigmoid'))\n",
    "    optimizer_setting = Adam(learning_rate = 0.001, ema_momentum = 1)\n",
    "    classifier_optimization.compile(optimizer = optimizer_setting, loss = 'binary_crossentropy', metrics = ['accuracy'])\n",
    "    return classifier_optimization\n",
    "\n",
    "ann_model_optimization = KerasClassifier(model=classifier_optimization, kernel_initializer = 'golorot_uniform', epochs = 150, batch_size = 50, verbose = 0) # Nawala na learning rate and momentum kasi nilagay na sa optimizer settings\n"
   ]
  },
  {
   "cell_type": "code",
   "execution_count": 76,
   "metadata": {},
   "outputs": [],
   "source": [
    "# D.2. To Import The GridSearchCV class\n",
    "from sklearn.model_selection import GridSearchCV\n"
   ]
  },
  {
   "cell_type": "code",
   "execution_count": 77,
   "metadata": {},
   "outputs": [
    {
     "name": "stdout",
     "output_type": "stream",
     "text": [
      "GridSearchCV(cv=StratifiedKFold(n_splits=10, random_state=0, shuffle=True),\n",
      "             estimator=KerasClassifier(batch_size=50, epochs=150, kernel_initializer='golorot_uniform', model=<function classifier_optimization at 0x0000024B9D76D3A0>, verbose=0),\n",
      "             n_jobs=-1,\n",
      "             param_grid={'kernel_initializer': ['uniform', 'lecun_uniform',\n",
      "                                                'normal', 'zero',\n",
      "                                                'glorot_uniform',\n",
      "                                                'glorot_normal', 'he_normal',\n",
      "                                                'he_uniform']},\n",
      "             scoring='accuracy')\n"
     ]
    }
   ],
   "source": [
    "# D.3. To Set Parameters to be Optimized for the ANN Model\n",
    "parameters = {'kernel_initializer': ['uniform', 'lecun_uniform', 'normal', 'zero', 'glorot_uniform', 'glorot_normal', 'he_normal', 'he_uniform']}\n",
    "grid_search = GridSearchCV(estimator = ann_model_optimization, \n",
    "                           param_grid = parameters,\n",
    "                           scoring = 'accuracy',\n",
    "                           cv = k_fold,\n",
    "                           n_jobs = -1)\n",
    "\n",
    "grid_search = grid_search.fit(X_standard, Y)\n",
    "print(grid_search)"
   ]
  },
  {
   "cell_type": "code",
   "execution_count": 78,
   "metadata": {},
   "outputs": [
    {
     "name": "stdout",
     "output_type": "stream",
     "text": [
      "   mean_test_score  std_test_score                                    params\n",
      "0         1.000000        0.000000         {'kernel_initializer': 'uniform'}\n",
      "1         1.000000        0.000000   {'kernel_initializer': 'lecun_uniform'}\n",
      "2         1.000000        0.000000          {'kernel_initializer': 'normal'}\n",
      "3         0.845255        0.000324            {'kernel_initializer': 'zero'}\n",
      "4         1.000000        0.000000  {'kernel_initializer': 'glorot_uniform'}\n",
      "5         1.000000        0.000000   {'kernel_initializer': 'glorot_normal'}\n",
      "6         1.000000        0.000000       {'kernel_initializer': 'he_normal'}\n",
      "7         1.000000        0.000000      {'kernel_initializer': 'he_uniform'}\n"
     ]
    }
   ],
   "source": [
    "# D.4. To View the Results of the GridSearchCV\n",
    "results = pd.DataFrame(grid_search.cv_results_)[['mean_test_score', 'std_test_score', 'params']]\n",
    "print(results)"
   ]
  },
  {
   "cell_type": "code",
   "execution_count": 79,
   "metadata": {},
   "outputs": [
    {
     "name": "stdout",
     "output_type": "stream",
     "text": [
      "Best Accuracy Score:\n",
      "1.0\n",
      " \n",
      "Best Parameters:\n",
      "{'kernel_initializer': 'uniform'}\n",
      " \n"
     ]
    }
   ],
   "source": [
    "# D.5. To Identify the Best Accuracy and the Best Features\n",
    "best_parameters = grid_search.best_params_\n",
    "best_accuracy = grid_search.best_score_\n",
    "\n",
    "print(\"Best Accuracy Score:\")\n",
    "print(best_accuracy)\n",
    "print(\" \")\n",
    "print(\"Best Parameters:\")\n",
    "print(best_parameters)\n",
    "print(\" \")\n"
   ]
  },
  {
   "cell_type": "markdown",
   "metadata": {},
   "source": [
    "### E. Tuning of Neuron Activation Function"
   ]
  },
  {
   "cell_type": "code",
   "execution_count": 83,
   "metadata": {},
   "outputs": [],
   "source": [
    "# E.1. Build the ANN Model for the Optimization Process\n",
    "\n",
    "def classifier_optimization(activation1, activation2, activation3):\n",
    "    classifier_optimization = Sequential()\n",
    "    classifier_optimization.add(Dense(units = 14, kernel_initializer = 'uniform', activation = activation1, input_dim = 26))\n",
    "    classifier_optimization.add(Dense(units = 13, kernel_initializer = 'uniform', activation = activation2))\n",
    "    classifier_optimization.add(Dense(units = 1, kernel_initializer = 'uniform', activation = activation3))\n",
    "    optimizer_setting = Adam(learning_rate = 0.001, ema_momentum = 1)\n",
    "    classifier_optimization.compile(optimizer = optimizer_setting, loss = 'binary_crossentropy', metrics = ['accuracy'])\n",
    "    return classifier_optimization\n",
    "\n",
    "ann_model_optimization = KerasClassifier(model=classifier_optimization, activation1 = 'softmax', activation2 = 'softmax', activation3 = 'softmax', epochs = 150, batch_size = 50, verbose = 0) # Nawala na learning rate and momentum kasi nilagay na sa optimizer settings\n"
   ]
  },
  {
   "cell_type": "code",
   "execution_count": 84,
   "metadata": {},
   "outputs": [],
   "source": [
    "# E.2. To Import The GridSearchCV class\n",
    "from sklearn.model_selection import GridSearchCV"
   ]
  },
  {
   "cell_type": "code",
   "execution_count": null,
   "metadata": {},
   "outputs": [],
   "source": [
    "# E.3. To Set Parameters to be Optimized for the ANN Model\n",
    "parameters = {'activation1': ['softmax', 'softplus', 'softsign', 'relu', 'tanh', 'sigmoid', 'hard_sigmoid', 'linear'],\n",
    "              'activation2': ['softmax', 'softplus', 'softsign', 'relu', 'tanh', 'sigmoid', 'hard_sigmoid', 'linear'],\n",
    "              'activation3': ['softmax', 'softplus', 'softsign', 'relu', 'tanh', 'sigmoid', 'hard_sigmoid', 'linear']}\n",
    "\n",
    "grid_search = GridSearchCV(estimator = ann_model_optimization, \n",
    "                           param_grid = parameters,\n",
    "                           scoring = 'accuracy',\n",
    "                           cv = k_fold,\n",
    "                           n_jobs = -1)\n",
    "\n",
    "grid_search = grid_search.fit(X_standard, Y)\n",
    "print(grid_search)\n"
   ]
  },
  {
   "cell_type": "code",
   "execution_count": null,
   "metadata": {},
   "outputs": [],
   "source": [
    "# E.4. To View the Results of the GridSearchCV\n",
    "results = pd.DataFrame(grid_search.cv_results_)[['mean_test_score', 'std_test_score', 'params']]\n",
    "print(results)"
   ]
  },
  {
   "cell_type": "code",
   "execution_count": null,
   "metadata": {},
   "outputs": [],
   "source": [
    "# E.5. To Identify the Best Accuracy and the Best Features\n",
    "best_parameters = grid_search.best_params_\n",
    "best_accuracy = grid_search.best_score_\n",
    "\n",
    "print(\"Best Accuracy Score:\")\n",
    "print(best_accuracy)\n",
    "print(\" \")\n",
    "print(\"Best Parameters:\")\n",
    "print(best_parameters)\n",
    "print(\" \")\n"
   ]
  },
  {
   "cell_type": "code",
   "execution_count": null,
   "metadata": {},
   "outputs": [],
   "source": []
  }
 ],
 "metadata": {
  "kernelspec": {
   "display_name": "base",
   "language": "python",
   "name": "python3"
  },
  "language_info": {
   "codemirror_mode": {
    "name": "ipython",
    "version": 3
   },
   "file_extension": ".py",
   "mimetype": "text/x-python",
   "name": "python",
   "nbconvert_exporter": "python",
   "pygments_lexer": "ipython3",
   "version": "3.11.8"
  }
 },
 "nbformat": 4,
 "nbformat_minor": 2
}
