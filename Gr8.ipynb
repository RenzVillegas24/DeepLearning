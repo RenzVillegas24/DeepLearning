{
 "cells": [
  {
   "cell_type": "markdown",
   "metadata": {},
   "source": [
    "### Group 8"
   ]
  },
  {
   "cell_type": "code",
   "execution_count": 136,
   "metadata": {},
   "outputs": [],
   "source": [
    "# Import Libraries\n",
    "\n",
    "import pandas as pd\n",
    "import numpy as np\n",
    "import matplotlib.pyplot as plt\n",
    "\n",
    "# One Hot Encoding\n",
    "from sklearn.compose import ColumnTransformer\n",
    "\n",
    "# Training set and Test set\n",
    "from sklearn.model_selection import train_test_split, StratifiedKFold, cross_val_score, GridSearchCV\n",
    "\n",
    "# Feature Scaling\n",
    "from sklearn.preprocessing import StandardScaler, LabelEncoder, OneHotEncoder\n",
    "\n",
    "# Keras Libraries \n",
    "import keras\n",
    "from keras.models import Sequential\n",
    "from keras.layers import Dense, Dropout\n",
    "\n",
    "# Plotting\n",
    "import seaborn as sns\n",
    "\n",
    "# Classifiers\n",
    "from scikeras.wrappers import KerasClassifier\n",
    "\n",
    "# Metrics \n",
    "from sklearn.metrics import confusion_matrix, recall_score, precision_score, f1_score, classification_report, accuracy_score\n",
    "\n"
   ]
  },
  {
   "cell_type": "markdown",
   "metadata": {},
   "source": [
    "## Part 1: Data Preprocessing"
   ]
  },
  {
   "cell_type": "code",
   "execution_count": 2,
   "metadata": {},
   "outputs": [],
   "source": [
    "dataset = pd.read_csv('online_shoppers_intention.csv')"
   ]
  },
  {
   "cell_type": "code",
   "execution_count": 3,
   "metadata": {},
   "outputs": [],
   "source": [
    "# Creating the X and Y Variable\n",
    "X = dataset.iloc[:, 1:18].values\n",
    "Y = dataset.iloc[:, 17:19].values"
   ]
  },
  {
   "cell_type": "code",
   "execution_count": 4,
   "metadata": {},
   "outputs": [
    {
     "name": "stdout",
     "output_type": "stream",
     "text": [
      "<class 'pandas.core.frame.DataFrame'>\n",
      "RangeIndex: 12330 entries, 0 to 12329\n",
      "Data columns (total 18 columns):\n",
      " #   Column                   Non-Null Count  Dtype  \n",
      "---  ------                   --------------  -----  \n",
      " 0   Administrative           12330 non-null  int64  \n",
      " 1   Administrative_Duration  12330 non-null  float64\n",
      " 2   Informational            12330 non-null  int64  \n",
      " 3   Informational_Duration   12330 non-null  float64\n",
      " 4   ProductRelated           12330 non-null  int64  \n",
      " 5   ProductRelated_Duration  12330 non-null  float64\n",
      " 6   BounceRates              12330 non-null  float64\n",
      " 7   ExitRates                12330 non-null  float64\n",
      " 8   PageValues               12330 non-null  float64\n",
      " 9   SpecialDay               12330 non-null  float64\n",
      " 10  Month                    12330 non-null  object \n",
      " 11  OperatingSystems         12330 non-null  int64  \n",
      " 12  Browser                  12330 non-null  int64  \n",
      " 13  Region                   12330 non-null  int64  \n",
      " 14  TrafficType              12330 non-null  int64  \n",
      " 15  VisitorType              12330 non-null  object \n",
      " 16  Weekend                  12330 non-null  bool   \n",
      " 17  Revenue                  12330 non-null  bool   \n",
      "dtypes: bool(2), float64(7), int64(7), object(2)\n",
      "memory usage: 1.5+ MB\n"
     ]
    }
   ],
   "source": [
    "# For the Dataset Information\n",
    "dataset.info()"
   ]
  },
  {
   "cell_type": "markdown",
   "metadata": {},
   "source": [
    "### B. Encoding the Categorical Data"
   ]
  },
  {
   "cell_type": "code",
   "execution_count": 5,
   "metadata": {},
   "outputs": [],
   "source": [
    "# B.1 One Hot Encoding the \"Month\" Column to Create Dummy Variable\n",
    "\n",
    "ct =  ColumnTransformer([('Month', OneHotEncoder(categories = 'auto'), [9])], remainder = 'passthrough')\n",
    "\n",
    "X = ct.fit_transform(X)"
   ]
  },
  {
   "cell_type": "code",
   "execution_count": 6,
   "metadata": {},
   "outputs": [],
   "source": [
    "# B.2. Label Encoding the \"Gender\" Column to convert it to Numeric\n",
    "\n",
    "le = LabelEncoder()\n",
    "X[:, 23] = le.fit_transform(X[:, 23])\n",
    "X[:, 24] = le.fit_transform(X[:, 24])\n",
    "\n",
    "X = X.astype(float)\n"
   ]
  },
  {
   "cell_type": "code",
   "execution_count": 7,
   "metadata": {},
   "outputs": [],
   "source": [
    "# C. Splitting the dataset into the Training Dataset and Testing Dataset\n",
    "\n",
    "X_train, X_test, Y_train, Y_test = train_test_split(X, Y, train_size=0.8, test_size = 0.2, random_state = 0)"
   ]
  },
  {
   "cell_type": "code",
   "execution_count": 8,
   "metadata": {},
   "outputs": [],
   "source": [
    "# D. Perform Feature Scaling\n",
    "ss = StandardScaler()\n",
    "\n",
    "X_train_standard = X_train.copy()\n",
    "X_test_standard = X_test.copy()\n",
    "\n",
    "X_train_standard = ss.fit_transform(X_train_standard)\n",
    "X_test_standard = ss.transform(X_test_standard)"
   ]
  },
  {
   "cell_type": "markdown",
   "metadata": {},
   "source": [
    "# Part 2: Building the Artificial Neural Network Model"
   ]
  },
  {
   "cell_type": "code",
   "execution_count": 9,
   "metadata": {},
   "outputs": [
    {
     "name": "stdout",
     "output_type": "stream",
     "text": [
      "WARNING:tensorflow:From c:\\Users\\RenzCute\\anaconda3\\Lib\\site-packages\\keras\\src\\backend.py:873: The name tf.get_default_graph is deprecated. Please use tf.compat.v1.get_default_graph instead.\n",
      "\n"
     ]
    }
   ],
   "source": [
    "# B. Initialize the ANN\n",
    "classifier = Sequential()"
   ]
  },
  {
   "cell_type": "code",
   "execution_count": 10,
   "metadata": {},
   "outputs": [],
   "source": [
    "# C. Adding the Input Layer and the First Hidden Layer\n",
    "classifier.add(Dense(units = 14, kernel_initializer = 'glorot_uniform', activation = 'relu', input_dim = 26))\n",
    "classifier.add(Dropout(rate = 0.1))"
   ]
  },
  {
   "cell_type": "code",
   "execution_count": 11,
   "metadata": {},
   "outputs": [],
   "source": [
    "# D. Adding the Second Hidden Layer\n",
    "classifier.add(Dense(units = 13, kernel_initializer = 'glorot_uniform', activation = 'relu'))\n",
    "classifier.add(Dropout(rate = 0.1))\n"
   ]
  },
  {
   "cell_type": "code",
   "execution_count": 12,
   "metadata": {},
   "outputs": [],
   "source": [
    "# E. Adding the Output Layer\n",
    "classifier.add(Dense(units = 1, kernel_initializer = 'glorot_uniform', activation = 'sigmoid'))"
   ]
  },
  {
   "cell_type": "markdown",
   "metadata": {},
   "source": [
    "# Part 3: Training the ANN Model"
   ]
  },
  {
   "cell_type": "code",
   "execution_count": 13,
   "metadata": {},
   "outputs": [
    {
     "name": "stdout",
     "output_type": "stream",
     "text": [
      "WARNING:tensorflow:From c:\\Users\\RenzCute\\anaconda3\\Lib\\site-packages\\keras\\src\\optimizers\\__init__.py:309: The name tf.train.Optimizer is deprecated. Please use tf.compat.v1.train.Optimizer instead.\n",
      "\n"
     ]
    }
   ],
   "source": [
    "# A. Compile the ANN Model\n",
    "\n",
    "classifier.compile(optimizer = 'sgd', loss = 'binary_crossentropy' , metrics = ['accuracy'])"
   ]
  },
  {
   "cell_type": "code",
   "execution_count": 14,
   "metadata": {},
   "outputs": [
    {
     "name": "stdout",
     "output_type": "stream",
     "text": [
      "Epoch 1/50\n",
      "WARNING:tensorflow:From c:\\Users\\RenzCute\\anaconda3\\Lib\\site-packages\\keras\\src\\utils\\tf_utils.py:492: The name tf.ragged.RaggedTensorValue is deprecated. Please use tf.compat.v1.ragged.RaggedTensorValue instead.\n",
      "\n",
      "WARNING:tensorflow:From c:\\Users\\RenzCute\\anaconda3\\Lib\\site-packages\\keras\\src\\engine\\base_layer_utils.py:384: The name tf.executing_eagerly_outside_functions is deprecated. Please use tf.compat.v1.executing_eagerly_outside_functions instead.\n",
      "\n",
      "987/987 [==============================] - 2s 1ms/step - loss: 0.3043 - accuracy: 0.8701\n",
      "Epoch 2/50\n",
      "987/987 [==============================] - 1s 1ms/step - loss: 0.0641 - accuracy: 0.9812\n",
      "Epoch 3/50\n",
      "987/987 [==============================] - 1s 1ms/step - loss: 0.0310 - accuracy: 0.9907\n",
      "Epoch 4/50\n",
      "987/987 [==============================] - 1s 1ms/step - loss: 0.0206 - accuracy: 0.9948\n",
      "Epoch 5/50\n",
      "987/987 [==============================] - 1s 1ms/step - loss: 0.0149 - accuracy: 0.9956\n",
      "Epoch 6/50\n",
      "987/987 [==============================] - 1s 1ms/step - loss: 0.0108 - accuracy: 0.9971\n",
      "Epoch 7/50\n",
      "987/987 [==============================] - 1s 1ms/step - loss: 0.0108 - accuracy: 0.9971\n",
      "Epoch 8/50\n",
      "987/987 [==============================] - 1s 1ms/step - loss: 0.0088 - accuracy: 0.9962\n",
      "Epoch 9/50\n",
      "987/987 [==============================] - 1s 1ms/step - loss: 0.0072 - accuracy: 0.9983\n",
      "Epoch 10/50\n",
      "987/987 [==============================] - 1s 1ms/step - loss: 0.0051 - accuracy: 0.9986\n",
      "Epoch 11/50\n",
      "987/987 [==============================] - 3s 3ms/step - loss: 0.0055 - accuracy: 0.9982\n",
      "Epoch 12/50\n",
      "987/987 [==============================] - 3s 3ms/step - loss: 0.0046 - accuracy: 0.9987\n",
      "Epoch 13/50\n",
      "987/987 [==============================] - 4s 4ms/step - loss: 0.0040 - accuracy: 0.9989\n",
      "Epoch 14/50\n",
      "987/987 [==============================] - 4s 4ms/step - loss: 0.0049 - accuracy: 0.9987\n",
      "Epoch 15/50\n",
      "987/987 [==============================] - 4s 4ms/step - loss: 0.0046 - accuracy: 0.9985\n",
      "Epoch 16/50\n",
      "987/987 [==============================] - 4s 4ms/step - loss: 0.0033 - accuracy: 0.9992\n",
      "Epoch 17/50\n",
      "987/987 [==============================] - 5s 5ms/step - loss: 0.0037 - accuracy: 0.9987\n",
      "Epoch 18/50\n",
      "987/987 [==============================] - 4s 4ms/step - loss: 0.0038 - accuracy: 0.9985\n",
      "Epoch 19/50\n",
      "987/987 [==============================] - 2s 2ms/step - loss: 0.0028 - accuracy: 0.9990\n",
      "Epoch 20/50\n",
      "987/987 [==============================] - 2s 2ms/step - loss: 0.0021 - accuracy: 0.9995\n",
      "Epoch 21/50\n",
      "987/987 [==============================] - 2s 2ms/step - loss: 0.0030 - accuracy: 0.9990\n",
      "Epoch 22/50\n",
      "987/987 [==============================] - 2s 2ms/step - loss: 0.0023 - accuracy: 0.9992\n",
      "Epoch 23/50\n",
      "987/987 [==============================] - 2s 2ms/step - loss: 0.0023 - accuracy: 0.9993\n",
      "Epoch 24/50\n",
      "987/987 [==============================] - 2s 2ms/step - loss: 0.0021 - accuracy: 0.9993\n",
      "Epoch 25/50\n",
      "987/987 [==============================] - 2s 2ms/step - loss: 0.0018 - accuracy: 0.9995\n",
      "Epoch 26/50\n",
      "987/987 [==============================] - 3s 3ms/step - loss: 0.0014 - accuracy: 0.9997\n",
      "Epoch 27/50\n",
      "987/987 [==============================] - 3s 3ms/step - loss: 0.0016 - accuracy: 0.9996\n",
      "Epoch 28/50\n",
      "987/987 [==============================] - 2s 2ms/step - loss: 0.0027 - accuracy: 0.9991\n",
      "Epoch 29/50\n",
      "987/987 [==============================] - 1s 1ms/step - loss: 0.0021 - accuracy: 0.9994\n",
      "Epoch 30/50\n",
      "987/987 [==============================] - 1s 1ms/step - loss: 0.0018 - accuracy: 0.9992\n",
      "Epoch 31/50\n",
      "987/987 [==============================] - 1s 1ms/step - loss: 0.0011 - accuracy: 0.9998\n",
      "Epoch 32/50\n",
      "987/987 [==============================] - 1s 1ms/step - loss: 0.0018 - accuracy: 0.9992\n",
      "Epoch 33/50\n",
      "987/987 [==============================] - 1s 1ms/step - loss: 0.0015 - accuracy: 0.9996\n",
      "Epoch 34/50\n",
      "987/987 [==============================] - 1s 1ms/step - loss: 0.0014 - accuracy: 0.9996\n",
      "Epoch 35/50\n",
      "987/987 [==============================] - 1s 1ms/step - loss: 0.0018 - accuracy: 0.9995\n",
      "Epoch 36/50\n",
      "987/987 [==============================] - 2s 2ms/step - loss: 0.0010 - accuracy: 0.9999\n",
      "Epoch 37/50\n",
      "987/987 [==============================] - 1s 1ms/step - loss: 0.0011 - accuracy: 0.9998\n",
      "Epoch 38/50\n",
      "987/987 [==============================] - 1s 1ms/step - loss: 7.7735e-04 - accuracy: 0.9999\n",
      "Epoch 39/50\n",
      "987/987 [==============================] - 2s 2ms/step - loss: 0.0018 - accuracy: 0.9995\n",
      "Epoch 40/50\n",
      "987/987 [==============================] - 1s 1ms/step - loss: 0.0011 - accuracy: 0.9997\n",
      "Epoch 41/50\n",
      "987/987 [==============================] - 1s 1ms/step - loss: 0.0013 - accuracy: 0.9995\n",
      "Epoch 42/50\n",
      "987/987 [==============================] - 1s 1ms/step - loss: 0.0012 - accuracy: 0.9996\n",
      "Epoch 43/50\n",
      "987/987 [==============================] - 1s 1ms/step - loss: 0.0015 - accuracy: 0.9994\n",
      "Epoch 44/50\n",
      "987/987 [==============================] - 1s 1ms/step - loss: 8.3182e-04 - accuracy: 0.9998\n",
      "Epoch 45/50\n",
      "987/987 [==============================] - 1s 1ms/step - loss: 0.0011 - accuracy: 0.9998\n",
      "Epoch 46/50\n",
      "987/987 [==============================] - 1s 1ms/step - loss: 0.0013 - accuracy: 0.9994\n",
      "Epoch 47/50\n",
      "987/987 [==============================] - 1s 1ms/step - loss: 0.0011 - accuracy: 0.9997\n",
      "Epoch 48/50\n",
      "987/987 [==============================] - 1s 1ms/step - loss: 9.7580e-04 - accuracy: 0.9996\n",
      "Epoch 49/50\n",
      "987/987 [==============================] - 1s 1ms/step - loss: 7.1582e-04 - accuracy: 0.9999\n",
      "Epoch 50/50\n",
      "987/987 [==============================] - 1s 1ms/step - loss: 8.6888e-04 - accuracy: 0.9995\n"
     ]
    },
    {
     "data": {
      "text/plain": [
       "<keras.src.callbacks.History at 0x1ec015d2dd0>"
      ]
     },
     "execution_count": 14,
     "metadata": {},
     "output_type": "execute_result"
    }
   ],
   "source": [
    "# B. Fitting the ANN Model on the Training Dataset\n",
    "\n",
    "classifier.fit(X_train_standard, Y_train, batch_size = 10, epochs = 50)"
   ]
  },
  {
   "cell_type": "markdown",
   "metadata": {},
   "source": [
    "## Part 4: Making Predictions and Evaluating the ANN Model"
   ]
  },
  {
   "cell_type": "code",
   "execution_count": 15,
   "metadata": {},
   "outputs": [
    {
     "name": "stdout",
     "output_type": "stream",
     "text": [
      "78/78 [==============================] - 0s 1ms/step\n"
     ]
    }
   ],
   "source": [
    "# A. Predict the Output of the Testing Dataset\n",
    "\n",
    "Y_predict_probability = classifier.predict(X_test_standard)\n",
    "Y_predict = np.rint(Y_predict_probability)"
   ]
  },
  {
   "cell_type": "code",
   "execution_count": 16,
   "metadata": {},
   "outputs": [
    {
     "data": {
      "text/plain": [
       "Text(95.72222222222221, 0.5, 'Actual Value')"
      ]
     },
     "execution_count": 16,
     "metadata": {},
     "output_type": "execute_result"
    },
    {
     "data": {
      "image/png": "[encoded data removed]",
      "text/plain": [
       "<Figure size 1000x700 with 2 Axes>"
      ]
     },
     "metadata": {},
     "output_type": "display_data"
    }
   ],
   "source": [
    "# B. To Generate and Plot the Confusion Matrix\n",
    "confusion_mx = confusion_matrix(Y_test, Y_predict)\n",
    "\n",
    "plt.figure(figsize = (10, 7))\n",
    "sns.heatmap(confusion_mx, annot = True)\n",
    "plt.xlabel('Predicted Value')\n",
    "plt.ylabel('Actual Value')"
   ]
  },
  {
   "cell_type": "code",
   "execution_count": 17,
   "metadata": {},
   "outputs": [
    {
     "name": "stdout",
     "output_type": "stream",
     "text": [
      "Hold-Out Accuracy:\n",
      "1.0\n",
      " \n"
     ]
    }
   ],
   "source": [
    "# C. Computing the Hold-Out Accuracy\n",
    "accuracy = accuracy_score(Y_test, Y_predict)\n",
    "print(\"Hold-Out Accuracy:\")\n",
    "print(accuracy)\n",
    "print(\" \")"
   ]
  },
  {
   "cell_type": "code",
   "execution_count": 18,
   "metadata": {},
   "outputs": [
    {
     "name": "stdout",
     "output_type": "stream",
     "text": [
      "Classification Report:\n",
      "              precision    recall  f1-score   support\n",
      "\n",
      "       False       1.00      1.00      1.00      2044\n",
      "        True       1.00      1.00      1.00       422\n",
      "\n",
      "    accuracy                           1.00      2466\n",
      "   macro avg       1.00      1.00      1.00      2466\n",
      "weighted avg       1.00      1.00      1.00      2466\n",
      "\n"
     ]
    }
   ],
   "source": [
    "# D. Generating the Classification Report\n",
    "print('Classification Report:')\n",
    "print(classification_report(Y_test, Y_predict))"
   ]
  },
  {
   "cell_type": "markdown",
   "metadata": {},
   "source": [
    "## Part 5: Perform K-Fold Cross Validation to Assess the ANN Model Performance"
   ]
  },
  {
   "cell_type": "code",
   "execution_count": 19,
   "metadata": {},
   "outputs": [],
   "source": [
    "# A. To Feature SCale the X Variable Using the StandardScaler\n",
    "\n",
    "X_standard = X.copy()\n",
    "X_standard = ss.fit_transform(X_standard)"
   ]
  },
  {
   "cell_type": "code",
   "execution_count": 20,
   "metadata": {},
   "outputs": [],
   "source": [
    "# B. Building the ANN Classifier Using KerasClassifier\n",
    "def classifier():\n",
    "    classifier = Sequential()\n",
    "    classifier.add(Dense(units = 14, kernel_initializer = 'glorot_uniform', activation = 'relu', input_dim = 26))\n",
    "    classifier.add(Dropout(rate = 0.1))\n",
    "    classifier.add(Dense(units = 13, kernel_initializer = 'glorot_uniform', activation = 'relu'))\n",
    "    classifier.add(Dropout(rate = 0.1))\n",
    "    classifier.add(Dense(units = 1, kernel_initializer = 'glorot_uniform', activation = 'sigmoid'))\n",
    "    classifier.compile(optimizer = 'sgd', loss = 'binary_crossentropy', metrics = ['accuracy'])\n",
    "    return classifier\n",
    "\n",
    "ann_model = KerasClassifier(model=classifier, batch_size=10, epochs = 50, verbose = 0)\n"
   ]
  },
  {
   "cell_type": "code",
   "execution_count": 21,
   "metadata": {},
   "outputs": [],
   "source": [
    "# D. Import the Cross Val Score Class\n",
    "k_fold = StratifiedKFold(n_splits = 10, shuffle = True, random_state=0)"
   ]
  },
  {
   "cell_type": "code",
   "execution_count": 22,
   "metadata": {},
   "outputs": [
    {
     "name": "stdout",
     "output_type": "stream",
     "text": [
      "Accuracies of k-folds: [1. 1. 1. 1. 1. 1. 1. 1. 1. 1.]\n",
      " \n",
      "Average of the Accuracies of k-folds: 1.0\n",
      " \n",
      "Standard Deviation of the Accuracies of k-foldsP: 0.0\n",
      " \n"
     ]
    }
   ],
   "source": [
    "# For the Accuracy as Scoring Metrics for the Cross-Validation\n",
    "accuracies = cross_val_score(estimator=ann_model, X = X_standard, y = Y, cv = k_fold, scoring = \"accuracy\", n_jobs = -1)\n",
    "accuracies_average = accuracies.mean()\n",
    "accuracies_standard_deviation = accuracies.std()\n",
    "\n",
    "print('Accuracies of k-folds:', accuracies)\n",
    "print(\" \")\n",
    "print(\"Average of the Accuracies of k-folds:\", accuracies_average)\n",
    "print(\" \")\n",
    "print('Standard Deviation of the Accuracies of k-foldsP:', accuracies_standard_deviation)\n",
    "print(\" \")\n"
   ]
  },
  {
   "cell_type": "code",
   "execution_count": 23,
   "metadata": {},
   "outputs": [
    {
     "name": "stdout",
     "output_type": "stream",
     "text": [
      "F1-Score of the k-folds: [1. 1. 1. 1. 1. 1. 1. 1. 1. 1.]\n",
      " \n",
      "Average of F1-Score of the k-folds: 1.0\n",
      " \n",
      "Standard Deviation of F1-Score of the k-fold: 0.0\n",
      " \n"
     ]
    }
   ],
   "source": [
    "# For the F1 as Scoring Metrics for the Cross-Validation\n",
    "f1 =  (cross_val_score(estimator = ann_model, X = X_standard, y = Y, cv = k_fold, scoring = 'f1', n_jobs = -1))\n",
    "f1_average = f1.mean()\n",
    "f1__standard_deviation = f1.std()\n",
    "\n",
    "print('F1-Score of the k-folds:', f1)\n",
    "print(\" \")\n",
    "print('Average of F1-Score of the k-folds:', f1_average)\n",
    "print(\" \")\n",
    "print('Standard Deviation of F1-Score of the k-fold:', f1__standard_deviation)\n",
    "print(' ')"
   ]
  },
  {
   "cell_type": "code",
   "execution_count": 24,
   "metadata": {},
   "outputs": [
    {
     "name": "stdout",
     "output_type": "stream",
     "text": [
      "Precision of the k-folds: [1. 1. 1. 1. 1. 1. 1. 1. 1. 1.]\n",
      " \n",
      "Average of Precision of the k-folds: 1.0\n",
      " \n",
      "Standard Deviation of Precision of the k-fold: 0.0\n",
      " \n"
     ]
    }
   ],
   "source": [
    "# For the Precision as Scoring Metrics for the Cross-Validation\n",
    "precision =  (cross_val_score(estimator = ann_model, X = X_standard, y = Y, cv = k_fold, scoring = 'precision', n_jobs = -1))\n",
    "precision_average = precision.mean()\n",
    "precision__standard_deviation = precision.std()\n",
    "\n",
    "print('Precision of the k-folds:', precision)\n",
    "print(\" \")\n",
    "print('Average of Precision of the k-folds:', precision_average)\n",
    "print(\" \")\n",
    "print('Standard Deviation of Precision of the k-fold:', precision__standard_deviation)\n",
    "print(' ')"
   ]
  },
  {
   "cell_type": "code",
   "execution_count": 25,
   "metadata": {},
   "outputs": [
    {
     "name": "stdout",
     "output_type": "stream",
     "text": [
      "Recall of the k-folds: [1. 1. 1. 1. 1. 1. 1. 1. 1. 1.]\n",
      " \n",
      "Average of Recall of the k-folds: 1.0\n",
      " \n",
      "Standard Deviation of Recall of the k-fold: 0.0\n",
      " \n"
     ]
    }
   ],
   "source": [
    "# For the Recall as Scoring Metrics for the Cross-Validation\n",
    "recall =  (cross_val_score(estimator = ann_model, X = X_standard, y = Y, cv = k_fold, scoring = 'recall', n_jobs = -1))\n",
    "recall_average = recall.mean()\n",
    "recall__standard_deviation = recall.std()\n",
    "\n",
    "print('Recall of the k-folds:', recall)\n",
    "print(\" \")\n",
    "print('Average of Recall of the k-folds:', recall_average)\n",
    "print(\" \")\n",
    "print('Standard Deviation of Recall of the k-fold:', recall__standard_deviation)\n",
    "print(' ')"
   ]
  },
  {
   "cell_type": "code",
   "execution_count": 26,
   "metadata": {},
   "outputs": [
    {
     "name": "stdout",
     "output_type": "stream",
     "text": [
      "ROC-AUC of the k-folds: [1. 1. 1. 1. 1. 1. 1. 1. 1. 1.]\n",
      " \n",
      "Average of ROC-AUC of the k-folds: 1.0\n",
      " \n",
      "Standard Deviation of ROC-AUC of the k-fold: 0.0\n",
      " \n"
     ]
    }
   ],
   "source": [
    "# For the Roc-Auc as Scoring Metrics for the Cross-Validation\n",
    "rocauc =  (cross_val_score(estimator = ann_model, X = X_standard, y = Y, cv = k_fold, scoring = 'roc_auc', n_jobs = -1))\n",
    "rocauc_average = rocauc.mean()\n",
    "rocauc__standard_deviation = rocauc.std()\n",
    "\n",
    "print('ROC-AUC of the k-folds:', rocauc)\n",
    "print(\" \")\n",
    "print('Average of ROC-AUC of the k-folds:', rocauc_average)\n",
    "print(\" \")\n",
    "print('Standard Deviation of ROC-AUC of the k-fold:', rocauc__standard_deviation)\n",
    "print(' ')"
   ]
  },
  {
   "cell_type": "markdown",
   "metadata": {},
   "source": [
    "### Part 6: Hold Out Validation"
   ]
  },
  {
   "cell_type": "code",
   "execution_count": 27,
   "metadata": {},
   "outputs": [
    {
     "name": "stdout",
     "output_type": "stream",
     "text": [
      "Classification Accuracy: 1.0000\n",
      "\n"
     ]
    }
   ],
   "source": [
    "# A. For the Classification Accuracy\n",
    "\n",
    "classification_accuracy = accuracy_score(Y_test, Y_predict)\n",
    "print('Classification Accuracy: %.4f'\n",
    "      %classification_accuracy)\n",
    "print('')\n"
   ]
  },
  {
   "cell_type": "code",
   "execution_count": 28,
   "metadata": {},
   "outputs": [
    {
     "name": "stdout",
     "output_type": "stream",
     "text": [
      "Classification Error: 0.0000\n",
      "\n"
     ]
    }
   ],
   "source": [
    "# B. For the Classification Error\n",
    "classification_error = 1 - classification_accuracy\n",
    "print('Classification Error: %.4f'\n",
    "      %classification_error)\n",
    "print('')"
   ]
  },
  {
   "cell_type": "code",
   "execution_count": 29,
   "metadata": {},
   "outputs": [
    {
     "name": "stdout",
     "output_type": "stream",
     "text": [
      "Sensitivity: 1.0000\n",
      "\n"
     ]
    }
   ],
   "source": [
    "# C. For the Sensitivity, Recall Score, Probablity of Detection, True Positive Rate\n",
    "sensitivity = recall_score(Y_test, Y_predict, average = 'weighted')\n",
    "print('Sensitivity: %.4f'\n",
    "      %sensitivity)\n",
    "print('')"
   ]
  },
  {
   "cell_type": "code",
   "execution_count": 30,
   "metadata": {},
   "outputs": [
    {
     "name": "stdout",
     "output_type": "stream",
     "text": [
      "Precision Score: 1.0000\n",
      "\n"
     ]
    }
   ],
   "source": [
    "# G. For the Precision or Positive Predictive Value\n",
    "precision = precision_score(Y_test, Y_predict, average = 'weighted')\n",
    "print('Precision Score: %.4f'\n",
    "      %precision)\n",
    "print('')"
   ]
  },
  {
   "cell_type": "code",
   "execution_count": 31,
   "metadata": {},
   "outputs": [
    {
     "name": "stdout",
     "output_type": "stream",
     "text": [
      "F1-Score: 1.0000\n",
      "\n"
     ]
    }
   ],
   "source": [
    "# H. For the F1-Score\n",
    "f1 = f1_score(Y_test, Y_predict, average = 'weighted')\n",
    "print('F1-Score: %.4f'\n",
    "      %f1)\n",
    "print('')"
   ]
  },
  {
   "cell_type": "markdown",
   "metadata": {},
   "source": [
    "# Part 7: Performing Hyperparameter Tuning to Optimized the ANN"
   ]
  },
  {
   "cell_type": "markdown",
   "metadata": {},
   "source": [
    "### A. Tune First the Batch Size and Epochs"
   ]
  },
  {
   "cell_type": "code",
   "execution_count": 32,
   "metadata": {},
   "outputs": [],
   "source": [
    "# A.1, Build the ANN Model for the Optimization Process\n",
    "\n",
    "def classifier_optimization():\n",
    "    classifier_optimization = Sequential()\n",
    "    classifier_optimization.add(Dense(units = 14, kernel_initializer = 'glorot_uniform', activation = 'relu', input_dim = 26))\n",
    "    classifier_optimization.add(Dense(units = 13, kernel_initializer = 'glorot_uniform', activation = 'relu'))\n",
    "    classifier_optimization.add(Dense(units = 1, kernel_initializer = 'glorot_uniform', activation = 'sigmoid'))\n",
    "    classifier_optimization.compile(optimizer = 'sgd', loss = 'binary_crossentropy', metrics = ['accuracy'])\n",
    "    return classifier_optimization\n",
    "\n",
    "ann_model_optimization = KerasClassifier(model=classifier_optimization, verbose = 0)"
   ]
  },
  {
   "cell_type": "code",
   "execution_count": 33,
   "metadata": {},
   "outputs": [
    {
     "name": "stdout",
     "output_type": "stream",
     "text": [
      "GridSearchCV(cv=StratifiedKFold(n_splits=10, random_state=0, shuffle=True),\n",
      "             estimator=KerasClassifier(model=<function classifier_optimization at 0x000001EC05B3FBA0>, verbose=0),\n",
      "             n_jobs=-1,\n",
      "             param_grid={'batch_size': [50, 100, 150, 200, 250],\n",
      "                         'epochs': [10, 50, 100, 150, 200]},\n",
      "             scoring='accuracy')\n"
     ]
    }
   ],
   "source": [
    "# A.3. To Set Parameters to be Optimized for the ANN Model\n",
    "parameters = {'batch_size': [50, 100, 150, 200, 250],\n",
    "              'epochs': [10, 50, 100, 150, 200]}\n",
    "grid_search = GridSearchCV(estimator = ann_model_optimization, \n",
    "                           param_grid = parameters,\n",
    "                           scoring = 'accuracy',\n",
    "                           cv = k_fold,\n",
    "                           n_jobs = -1)\n",
    "\n",
    "grid_search = grid_search.fit(X_standard, Y)\n",
    "print(grid_search)"
   ]
  },
  {
   "cell_type": "code",
   "execution_count": 34,
   "metadata": {},
   "outputs": [
    {
     "name": "stdout",
     "output_type": "stream",
     "text": [
      "    mean_test_score  std_test_score                              params\n",
      "0          0.999108        0.000765    {'batch_size': 50, 'epochs': 10}\n",
      "1          0.999919        0.000243    {'batch_size': 50, 'epochs': 50}\n",
      "2          1.000000        0.000000   {'batch_size': 50, 'epochs': 100}\n",
      "3          0.999919        0.000243   {'batch_size': 50, 'epochs': 150}\n",
      "4          1.000000        0.000000   {'batch_size': 50, 'epochs': 200}\n",
      "5          0.996756        0.002513   {'batch_size': 100, 'epochs': 10}\n",
      "6          0.999838        0.000324   {'batch_size': 100, 'epochs': 50}\n",
      "7          0.999919        0.000243  {'batch_size': 100, 'epochs': 100}\n",
      "8          1.000000        0.000000  {'batch_size': 100, 'epochs': 150}\n",
      "9          1.000000        0.000000  {'batch_size': 100, 'epochs': 200}\n",
      "10         0.991484        0.004475   {'batch_size': 150, 'epochs': 10}\n",
      "11         0.999757        0.000519   {'batch_size': 150, 'epochs': 50}\n",
      "12         0.999919        0.000243  {'batch_size': 150, 'epochs': 100}\n",
      "13         0.999757        0.000519  {'batch_size': 150, 'epochs': 150}\n",
      "14         1.000000        0.000000  {'batch_size': 150, 'epochs': 200}\n",
      "15         0.963828        0.031491   {'batch_size': 200, 'epochs': 10}\n",
      "16         0.999513        0.000649   {'batch_size': 200, 'epochs': 50}\n",
      "17         0.999757        0.000519  {'batch_size': 200, 'epochs': 100}\n",
      "18         0.999838        0.000324  {'batch_size': 200, 'epochs': 150}\n",
      "19         0.999919        0.000243  {'batch_size': 200, 'epochs': 200}\n",
      "20         0.927818        0.048444   {'batch_size': 250, 'epochs': 10}\n",
      "21         0.999594        0.000544   {'batch_size': 250, 'epochs': 50}\n",
      "22         0.999838        0.000324  {'batch_size': 250, 'epochs': 100}\n",
      "23         0.999838        0.000324  {'batch_size': 250, 'epochs': 150}\n",
      "24         0.999838        0.000324  {'batch_size': 250, 'epochs': 200}\n"
     ]
    }
   ],
   "source": [
    "# A.4. To View the Results of the GridSearchCV\n",
    "results = pd.DataFrame(grid_search.cv_results_)[['mean_test_score', 'std_test_score', 'params']]\n",
    "print(results)"
   ]
  },
  {
   "cell_type": "code",
   "execution_count": 35,
   "metadata": {},
   "outputs": [
    {
     "name": "stdout",
     "output_type": "stream",
     "text": [
      "Best Accuracy Score:\n",
      "1.0\n",
      " \n",
      "Best Parameters:\n",
      "{'batch_size': 50, 'epochs': 100}\n",
      " \n"
     ]
    }
   ],
   "source": [
    "# A.5. To Identify the Best Accuracy and the Best Features\n",
    "best_parameters_A = grid_search.best_params_\n",
    "best_accuracy = grid_search.best_score_\n",
    "\n",
    "print(\"Best Accuracy Score:\")\n",
    "print(best_accuracy)\n",
    "print(\" \")\n",
    "print(\"Best Parameters:\")\n",
    "print(best_parameters_A)\n",
    "print(\" \")"
   ]
  },
  {
   "cell_type": "markdown",
   "metadata": {},
   "source": [
    "### B. Tune Next the Optimizer"
   ]
  },
  {
   "cell_type": "code",
   "execution_count": 36,
   "metadata": {},
   "outputs": [],
   "source": [
    "# B.1, Build the ANN Model for the Optimization Process\n",
    "def classifier_optimization(optimizer='sgd'):\n",
    "    classifier_optimization = Sequential()\n",
    "    classifier_optimization.add(Dense(units = 14, kernel_initializer = 'glorot_uniform', activation = 'relu', input_dim = 26))\n",
    "    classifier_optimization.add(Dense(units = 13, kernel_initializer = 'glorot_uniform', activation = 'relu'))\n",
    "    classifier_optimization.add(Dense(units = 1, kernel_initializer = 'glorot_uniform', activation = 'sigmoid'))\n",
    "    classifier_optimization.compile(optimizer = optimizer, loss = 'binary_crossentropy', metrics = ['accuracy'])\n",
    "    return classifier_optimization\n",
    "\n",
    "ann_model_optimization = KerasClassifier(model=classifier_optimization, verbose = 0, **best_parameters_A)"
   ]
  },
  {
   "cell_type": "code",
   "execution_count": 37,
   "metadata": {},
   "outputs": [
    {
     "name": "stdout",
     "output_type": "stream",
     "text": [
      "GridSearchCV(cv=StratifiedKFold(n_splits=10, random_state=0, shuffle=True),\n",
      "             estimator=KerasClassifier(batch_size=50, epochs=100, model=<function classifier_optimization at 0x000001EC067644A0>, verbose=0),\n",
      "             n_jobs=-1,\n",
      "             param_grid={'optimizer': ['adam', 'sgd', 'rmsprop', 'adamW',\n",
      "                                       'adadelta', 'adagrad', 'adamax',\n",
      "                                       'adafactor', 'ftrl', 'lion']},\n",
      "             scoring='accuracy')\n"
     ]
    }
   ],
   "source": [
    "# B.3. To Set Parameters to be Optimized for the ANN Model\n",
    "parameters = {'optimizer': ['adam', 'sgd', 'rmsprop', 'adamW', 'adadelta', 'adagrad', 'adamax', 'adafactor', 'ftrl', 'lion']}\n",
    "\n",
    "grid_search = GridSearchCV(estimator = ann_model_optimization, \n",
    "                           param_grid = parameters,\n",
    "                           scoring = 'accuracy',\n",
    "                           cv = k_fold,\n",
    "                           n_jobs = -1)\n",
    "\n",
    "grid_search = grid_search.fit(X_standard, Y)\n",
    "print(grid_search)\n"
   ]
  },
  {
   "cell_type": "code",
   "execution_count": 38,
   "metadata": {},
   "outputs": [
    {
     "name": "stdout",
     "output_type": "stream",
     "text": [
      "   mean_test_score  std_test_score                      params\n",
      "0         1.000000        0.000000       {'optimizer': 'adam'}\n",
      "1         0.999919        0.000243        {'optimizer': 'sgd'}\n",
      "2         1.000000        0.000000    {'optimizer': 'rmsprop'}\n",
      "3         1.000000        0.000000      {'optimizer': 'adamW'}\n",
      "4         0.999919        0.000243   {'optimizer': 'adadelta'}\n",
      "5         0.999919        0.000243    {'optimizer': 'adagrad'}\n",
      "6         1.000000        0.000000     {'optimizer': 'adamax'}\n",
      "7         1.000000        0.000000  {'optimizer': 'adafactor'}\n",
      "8         0.999919        0.000243       {'optimizer': 'ftrl'}\n",
      "9         1.000000        0.000000       {'optimizer': 'lion'}\n"
     ]
    }
   ],
   "source": [
    "# B.4. To View the Results of the GridSearchCV\n",
    "results = pd.DataFrame(grid_search.cv_results_)[['mean_test_score', 'std_test_score', 'params']]\n",
    "print(results)\n"
   ]
  },
  {
   "cell_type": "code",
   "execution_count": 39,
   "metadata": {},
   "outputs": [
    {
     "name": "stdout",
     "output_type": "stream",
     "text": [
      "Best Accuracy Score:\n",
      "1.0\n",
      " \n",
      "Best Parameters:\n",
      "{'optimizer': 'adam'}\n",
      " \n"
     ]
    }
   ],
   "source": [
    "# B.5. To Identify the Best Accuracy and the Best Features\n",
    "best_parameters_B = grid_search.best_params_\n",
    "best_accuracy = grid_search.best_score_\n",
    "\n",
    "print(\"Best Accuracy Score:\")\n",
    "print(best_accuracy)\n",
    "print(\" \")\n",
    "print(\"Best Parameters:\")\n",
    "print(best_parameters_B)\n",
    "print(\" \")"
   ]
  },
  {
   "cell_type": "markdown",
   "metadata": {},
   "source": [
    "### C. Tune Next the Optimizer's Learning Rate and Momentum"
   ]
  },
  {
   "cell_type": "code",
   "execution_count": 40,
   "metadata": {},
   "outputs": [],
   "source": [
    "# C.1. Build the ANN Model for the Optimization Process\n",
    "if best_parameters_B['optimizer'] == 'adam':\n",
    "    from keras.optimizers import Adam\n",
    "elif best_parameters_B['optimizer'] == 'sgd':\n",
    "    from keras.optimizers import SGD\n",
    "elif best_parameters_B['optimizer'] == 'rmsprop':\n",
    "    from keras.optimizers import RMSprop\n",
    "elif best_parameters_B['optimizer'] == 'adamW':\n",
    "    from keras.optimizers import AdamW\n",
    "elif best_parameters_B['optimizer'] == 'adadelta':\n",
    "    from keras.optimizers import Adadelta\n",
    "elif best_parameters_B['optimizer'] == 'adagrad':\n",
    "    from keras.optimizers import Adagrad\n",
    "elif best_parameters_B['optimizer'] == 'adamax':\n",
    "    from keras.optimizers import Adamax\n",
    "elif best_parameters_B['optimizer'] == 'adafactor':\n",
    "    from keras.optimizers import Adafactor\n",
    "elif best_parameters_B['optimizer'] == 'ftrl':\n",
    "    from keras.optimizers import Ftrl\n",
    "elif best_parameters_B['optimizer'] == 'lion':\n",
    "    from keras.optimizers import Lion\n",
    "   \n",
    "\n",
    "def classifier_optimization(learning_rate, ema_momentum):\n",
    "    classifier_optimization = Sequential()\n",
    "    classifier_optimization.add(Dense(units = 14, kernel_initializer = 'glorot_uniform', activation = 'relu', input_dim = 26))\n",
    "    classifier_optimization.add(Dense(units = 13, kernel_initializer = 'glorot_uniform', activation = 'relu'))\n",
    "    classifier_optimization.add(Dense(units = 1, kernel_initializer = 'glorot_uniform', activation = 'sigmoid'))\n",
    "    if best_parameters_B['optimizer'] == 'adam':\n",
    "        optimizer_setting = Adam(learning_rate = learning_rate, ema_momentum = ema_momentum)\n",
    "    elif best_parameters_B['optimizer'] == 'sgd':\n",
    "        optimizer_setting = SGD(learning_rate = learning_rate, ema_momentum = ema_momentum)\n",
    "    elif best_parameters_B['optimizer'] == 'rmsprop':\n",
    "        optimizer_setting = RMSprop(learning_rate = learning_rate, ema_momentum = ema_momentum)\n",
    "    elif best_parameters_B['optimizer'] == 'adamW':\n",
    "        optimizer_setting = AdamW(learning_rate = learning_rate, ema_momentum = ema_momentum)\n",
    "    elif best_parameters_B['optimizer'] == 'adadelta':\n",
    "        optimizer_setting = Adadelta(learning_rate = learning_rate, ema_momentum = ema_momentum)\n",
    "    elif best_parameters_B['optimizer'] == 'adagrad':\n",
    "        optimizer_setting = Adagrad(learning_rate = learning_rate, ema_momentum = ema_momentum)\n",
    "    elif best_parameters_B['optimizer'] == 'adamax':\n",
    "        optimizer_setting = Adamax(learning_rate = learning_rate, ema_momentum = ema_momentum)\n",
    "    elif best_parameters_B['optimizer'] == 'adafactor':\n",
    "        optimizer_setting = Adafactor(learning_rate = learning_rate, ema_momentum = ema_momentum)\n",
    "    elif best_parameters_B['optimizer'] == 'ftrl':\n",
    "        optimizer_setting = Ftrl(learning_rate = learning_rate, ema_momentum = ema_momentum)\n",
    "    elif best_parameters_B['optimizer'] == 'lion':\n",
    "        optimizer_setting = Lion(learning_rate = learning_rate, ema_momentum = ema_momentum)\n",
    "    classifier_optimization.compile(optimizer = optimizer_setting, loss = 'binary_crossentropy', metrics = ['accuracy'])\n",
    "    return classifier_optimization\n",
    "\n",
    "ann_model_optimization = KerasClassifier(model=classifier_optimization, verbose = 0, **best_parameters_A, learning_rate = 0.001, ema_momentum = 0.0)\n"
   ]
  },
  {
   "cell_type": "code",
   "execution_count": 41,
   "metadata": {},
   "outputs": [
    {
     "name": "stdout",
     "output_type": "stream",
     "text": [
      "GridSearchCV(cv=StratifiedKFold(n_splits=10, random_state=0, shuffle=True),\n",
      "             estimator=KerasClassifier(batch_size=50, ema_momentum=0.0, epochs=100, learning_rate=0.001, model=<function classifier_optimization at 0x000001EC06766F20>, verbose=0),\n",
      "             n_jobs=-1,\n",
      "             param_grid={'ema_momentum': [1, 1.5, 2, 3, 0.8, 0.99],\n",
      "                         'learning_rate': [0.001, 0.01, 0.1, 1]},\n",
      "             scoring='accuracy')\n"
     ]
    }
   ],
   "source": [
    "# C.3. To Set Parameters to be Optimized for the ANN Model\n",
    "parameters = {'learning_rate': [0.001, 0.01, 0.1, 1],\n",
    "              'ema_momentum': [1, 1.5, 2, 3, 0.8, 0.99]}\n",
    "grid_search = GridSearchCV(estimator = ann_model_optimization, \n",
    "                           param_grid = parameters,\n",
    "                           scoring = 'accuracy',\n",
    "                           cv = k_fold,\n",
    "                           n_jobs = -1)\n",
    "\n",
    "grid_search = grid_search.fit(X_standard, Y)\n",
    "print(grid_search)"
   ]
  },
  {
   "cell_type": "code",
   "execution_count": 42,
   "metadata": {},
   "outputs": [
    {
     "name": "stdout",
     "output_type": "stream",
     "text": [
      "    mean_test_score  std_test_score  \\\n",
      "0          0.999919        0.000243   \n",
      "1          1.000000        0.000000   \n",
      "2          1.000000        0.000000   \n",
      "3          0.845255        0.000324   \n",
      "4          1.000000        0.000000   \n",
      "5          1.000000        0.000000   \n",
      "6          1.000000        0.000000   \n",
      "7          0.845255        0.000324   \n",
      "8          1.000000        0.000000   \n",
      "9          1.000000        0.000000   \n",
      "10         0.999757        0.000519   \n",
      "11         0.845255        0.000324   \n",
      "12         1.000000        0.000000   \n",
      "13         1.000000        0.000000   \n",
      "14         0.999919        0.000243   \n",
      "15         0.845255        0.000324   \n",
      "16         1.000000        0.000000   \n",
      "17         1.000000        0.000000   \n",
      "18         1.000000        0.000000   \n",
      "19         0.845255        0.000324   \n",
      "20         1.000000        0.000000   \n",
      "21         1.000000        0.000000   \n",
      "22         0.999027        0.001912   \n",
      "23         0.845337        0.000372   \n",
      "\n",
      "                                            params  \n",
      "0      {'ema_momentum': 1, 'learning_rate': 0.001}  \n",
      "1       {'ema_momentum': 1, 'learning_rate': 0.01}  \n",
      "2        {'ema_momentum': 1, 'learning_rate': 0.1}  \n",
      "3          {'ema_momentum': 1, 'learning_rate': 1}  \n",
      "4    {'ema_momentum': 1.5, 'learning_rate': 0.001}  \n",
      "5     {'ema_momentum': 1.5, 'learning_rate': 0.01}  \n",
      "6      {'ema_momentum': 1.5, 'learning_rate': 0.1}  \n",
      "7        {'ema_momentum': 1.5, 'learning_rate': 1}  \n",
      "8      {'ema_momentum': 2, 'learning_rate': 0.001}  \n",
      "9       {'ema_momentum': 2, 'learning_rate': 0.01}  \n",
      "10       {'ema_momentum': 2, 'learning_rate': 0.1}  \n",
      "11         {'ema_momentum': 2, 'learning_rate': 1}  \n",
      "12     {'ema_momentum': 3, 'learning_rate': 0.001}  \n",
      "13      {'ema_momentum': 3, 'learning_rate': 0.01}  \n",
      "14       {'ema_momentum': 3, 'learning_rate': 0.1}  \n",
      "15         {'ema_momentum': 3, 'learning_rate': 1}  \n",
      "16   {'ema_momentum': 0.8, 'learning_rate': 0.001}  \n",
      "17    {'ema_momentum': 0.8, 'learning_rate': 0.01}  \n",
      "18     {'ema_momentum': 0.8, 'learning_rate': 0.1}  \n",
      "19       {'ema_momentum': 0.8, 'learning_rate': 1}  \n",
      "20  {'ema_momentum': 0.99, 'learning_rate': 0.001}  \n",
      "21   {'ema_momentum': 0.99, 'learning_rate': 0.01}  \n",
      "22    {'ema_momentum': 0.99, 'learning_rate': 0.1}  \n",
      "23      {'ema_momentum': 0.99, 'learning_rate': 1}  \n"
     ]
    }
   ],
   "source": [
    "# C.4. To View the Results of the GridSearchCV\n",
    "results = pd.DataFrame(grid_search.cv_results_)[['mean_test_score', 'std_test_score', 'params']]\n",
    "print(results)"
   ]
  },
  {
   "cell_type": "code",
   "execution_count": 43,
   "metadata": {},
   "outputs": [
    {
     "name": "stdout",
     "output_type": "stream",
     "text": [
      "Best Accuracy Score:\n",
      "1.0\n",
      " \n",
      "Best Parameters:\n",
      "{'ema_momentum': 1, 'learning_rate': 0.01}\n",
      " \n"
     ]
    }
   ],
   "source": [
    "# C.5. To Identify the Best Accuracy and the Best Features\n",
    "best_parameters_C = grid_search.best_params_\n",
    "best_accuracy = grid_search.best_score_\n",
    "\n",
    "print(\"Best Accuracy Score:\")\n",
    "print(best_accuracy)\n",
    "print(\" \")\n",
    "print(\"Best Parameters:\")\n",
    "print(best_parameters_C)\n",
    "print(\" \")\n"
   ]
  },
  {
   "cell_type": "markdown",
   "metadata": {},
   "source": [
    "### D. Tuning of Network's Weight Initialization"
   ]
  },
  {
   "cell_type": "code",
   "execution_count": 44,
   "metadata": {},
   "outputs": [],
   "source": [
    "# D.1. Build the ANN Model for the Optimization Process\n",
    "if best_parameters_B['optimizer'] == 'adam':\n",
    "    optimizer_setting = Adam(**best_parameters_C)\n",
    "elif best_parameters_B['optimizer'] == 'sgd':\n",
    "    optimizer_setting = SGD(**best_parameters_C)\n",
    "elif best_parameters_B['optimizer'] == 'rmsprop':\n",
    "    optimizer_setting = RMSprop(**best_parameters_C)\n",
    "elif best_parameters_B['optimizer'] == 'adamW':\n",
    "    optimizer_setting = AdamW(**best_parameters_C)\n",
    "elif best_parameters_B['optimizer'] == 'adadelta':\n",
    "    optimizer_setting = Adadelta(**best_parameters_C)\n",
    "elif best_parameters_B['optimizer'] == 'adagrad':\n",
    "    optimizer_setting = Adagrad(**best_parameters_C)\n",
    "elif best_parameters_B['optimizer'] == 'adamax':\n",
    "    optimizer_setting = Adamax(**best_parameters_C)\n",
    "elif best_parameters_B['optimizer'] == 'adafactor':\n",
    "    optimizer_setting = Adafactor(**best_parameters_C)\n",
    "elif best_parameters_B['optimizer'] == 'ftrl':\n",
    "    optimizer_setting = Ftrl(**best_parameters_C)\n",
    "elif best_parameters_B['optimizer'] == 'lion':\n",
    "    optimizer_setting = Lion(**best_parameters_C)\n",
    "    \n",
    "def classifier_optimization(kernel_initializer):\n",
    "    classifier_optimization = Sequential()\n",
    "    classifier_optimization.add(Dense(units = 14, kernel_initializer = kernel_initializer, activation = 'relu', input_dim = 26))\n",
    "    classifier_optimization.add(Dense(units = 13, kernel_initializer = kernel_initializer, activation = 'relu'))\n",
    "    classifier_optimization.add(Dense(units = 1, kernel_initializer = kernel_initializer, activation = 'sigmoid'))\n",
    "    classifier_optimization.compile(optimizer = optimizer_setting, loss = 'binary_crossentropy', metrics = ['accuracy'])\n",
    "    return classifier_optimization\n",
    "\n",
    "ann_model_optimization = KerasClassifier(model=classifier_optimization, verbose = 0, **best_parameters_A,  kernel_initializer = 'golorot_uniform')\n"
   ]
  },
  {
   "cell_type": "code",
   "execution_count": 45,
   "metadata": {},
   "outputs": [
    {
     "name": "stdout",
     "output_type": "stream",
     "text": [
      "GridSearchCV(cv=StratifiedKFold(n_splits=10, random_state=0, shuffle=True),\n",
      "             estimator=KerasClassifier(batch_size=50, epochs=100, kernel_initializer='golorot_uniform', model=<function classifier_optimization at 0x000001EC067656C0>, verbose=0),\n",
      "             n_jobs=-1,\n",
      "             param_grid={'kernel_initializer': ['uniform', 'lecun_uniform',\n",
      "                                                'normal', 'zero',\n",
      "                                                'glorot_uniform',\n",
      "                                                'glorot_normal', 'he_normal',\n",
      "                                                'he_uniform']},\n",
      "             scoring='accuracy')\n"
     ]
    }
   ],
   "source": [
    "# D.3. To Set Parameters to be Optimized for the ANN Model\n",
    "parameters = {'kernel_initializer': ['uniform', 'lecun_uniform', 'normal', 'zero', 'glorot_uniform', 'glorot_normal', 'he_normal', 'he_uniform']}\n",
    "grid_search = GridSearchCV(estimator = ann_model_optimization, \n",
    "                           param_grid = parameters,\n",
    "                           scoring = 'accuracy',\n",
    "                           cv = k_fold,\n",
    "                           n_jobs = -1)\n",
    "\n",
    "grid_search = grid_search.fit(X_standard, Y)\n",
    "print(grid_search)"
   ]
  },
  {
   "cell_type": "code",
   "execution_count": 46,
   "metadata": {},
   "outputs": [
    {
     "name": "stdout",
     "output_type": "stream",
     "text": [
      "   mean_test_score  std_test_score                                    params\n",
      "0         1.000000        0.000000         {'kernel_initializer': 'uniform'}\n",
      "1         1.000000        0.000000   {'kernel_initializer': 'lecun_uniform'}\n",
      "2         1.000000        0.000000          {'kernel_initializer': 'normal'}\n",
      "3         0.845255        0.000324            {'kernel_initializer': 'zero'}\n",
      "4         1.000000        0.000000  {'kernel_initializer': 'glorot_uniform'}\n",
      "5         1.000000        0.000000   {'kernel_initializer': 'glorot_normal'}\n",
      "6         1.000000        0.000000       {'kernel_initializer': 'he_normal'}\n",
      "7         1.000000        0.000000      {'kernel_initializer': 'he_uniform'}\n"
     ]
    }
   ],
   "source": [
    "# D.4. To View the Results of the GridSearchCV\n",
    "results = pd.DataFrame(grid_search.cv_results_)[['mean_test_score', 'std_test_score', 'params']]\n",
    "print(results)"
   ]
  },
  {
   "cell_type": "code",
   "execution_count": 47,
   "metadata": {},
   "outputs": [
    {
     "name": "stdout",
     "output_type": "stream",
     "text": [
      "Best Accuracy Score:\n",
      "1.0\n",
      " \n",
      "Best Parameters:\n",
      "{'kernel_initializer': 'uniform'}\n",
      " \n"
     ]
    }
   ],
   "source": [
    "# D.5. To Identify the Best Accuracy and the Best Features\n",
    "best_parameters_D = grid_search.best_params_\n",
    "best_accuracy = grid_search.best_score_\n",
    "\n",
    "print(\"Best Accuracy Score:\")\n",
    "print(best_accuracy)\n",
    "print(\" \")\n",
    "print(\"Best Parameters:\")\n",
    "print(best_parameters_D)\n",
    "print(\" \")\n"
   ]
  },
  {
   "cell_type": "markdown",
   "metadata": {},
   "source": [
    "### E. Tuning of Neuron Activation Function"
   ]
  },
  {
   "cell_type": "code",
   "execution_count": 48,
   "metadata": {},
   "outputs": [],
   "source": [
    "# E.1. Build the ANN Model for the Optimization Process\n",
    "from scikeras.wrappers import KerasClassifier\n",
    "if best_parameters_B['optimizer'] == 'adam':\n",
    "    optimizer_setting = Adam(**best_parameters_C)\n",
    "elif best_parameters_B['optimizer'] == 'sgd':\n",
    "    optimizer_setting = SGD(**best_parameters_C)\n",
    "elif best_parameters_B['optimizer'] == 'rmsprop':\n",
    "    optimizer_setting = RMSprop(**best_parameters_C)\n",
    "elif best_parameters_B['optimizer'] == 'adamW':\n",
    "    optimizer_setting = AdamW(**best_parameters_C)\n",
    "elif best_parameters_B['optimizer'] == 'adadelta':\n",
    "    optimizer_setting = Adadelta(**best_parameters_C)\n",
    "elif best_parameters_B['optimizer'] == 'adagrad':\n",
    "    optimizer_setting = Adagrad(**best_parameters_C)\n",
    "elif best_parameters_B['optimizer'] == 'adamax':\n",
    "    optimizer_setting = Adamax(**best_parameters_C)\n",
    "elif best_parameters_B['optimizer'] == 'adafactor':\n",
    "    optimizer_setting = Adafactor(**best_parameters_C)\n",
    "elif best_parameters_B['optimizer'] == 'ftrl':\n",
    "    optimizer_setting = Ftrl(**best_parameters_C)\n",
    "elif best_parameters_B['optimizer'] == 'lion':\n",
    "    optimizer_setting = Lion(**best_parameters_C)\n",
    "\n",
    "def classifier_optimization(activation1, activation2, activation3):\n",
    "    classifier_optimization = Sequential()\n",
    "    classifier_optimization.add(Dense(units = 14, **best_parameters_D, activation = activation1, input_dim = 26))\n",
    "    classifier_optimization.add(Dense(units = 13, **best_parameters_D, activation = activation2))\n",
    "    classifier_optimization.add(Dense(units = 1,  **best_parameters_D, activation = activation3))\n",
    "    classifier_optimization.compile(optimizer = optimizer_setting, loss = 'binary_crossentropy', metrics = ['accuracy'])\n",
    "    return classifier_optimization\n",
    "\n",
    "ann_model_optimization = KerasClassifier(model=classifier_optimization, verbose = 0, **best_parameters_A, activation1 = 'softmax', activation2 = 'softmax', activation3 = 'softmax')\n"
   ]
  },
  {
   "cell_type": "code",
   "execution_count": 49,
   "metadata": {},
   "outputs": [
    {
     "name": "stderr",
     "output_type": "stream",
     "text": [
      "c:\\Users\\RenzCute\\anaconda3\\Lib\\site-packages\\joblib\\externals\\loky\\process_executor.py:700: UserWarning: A worker stopped while some jobs were given to the executor. This can be caused by a too short worker timeout or by a memory leak.\n",
      "  warnings.warn(\n"
     ]
    },
    {
     "name": "stdout",
     "output_type": "stream",
     "text": [
      "GridSearchCV(cv=StratifiedKFold(n_splits=10, random_state=0, shuffle=True),\n",
      "             estimator=KerasClassifier(activation1='softmax', activation2='softmax', activation3='softmax', batch_size=50, epochs=100, model=<function classifier_optimization at 0x000001EC07ED9E40>, verbose=0),\n",
      "             n_jobs=-1,\n",
      "             param_grid={'activation1': ['softmax', 'softplus', 'softsign',\n",
      "                                         'relu', 'tanh', 'sigmoid',\n",
      "                                         'hard_sigmoid', 'linear'],\n",
      "                         'activation2': ['softmax', 'softplus', 'softsign',\n",
      "                                         'relu', 'tanh', 'sigmoid',\n",
      "                                         'hard_sigmoid', 'linear'],\n",
      "                         'activation3': ['softmax', 'softplus', 'softsign',\n",
      "                                         'relu', 'tanh', 'sigmoid',\n",
      "                                         'hard_sigmoid', 'linear']},\n",
      "             scoring='accuracy')\n"
     ]
    }
   ],
   "source": [
    "# E.3. To Set Parameters to be Optimized for the ANN Model\n",
    "parameters = {'activation1': ['softmax', 'softplus', 'softsign', 'relu', 'tanh', 'sigmoid', 'hard_sigmoid', 'linear'],\n",
    "              'activation2': ['softmax', 'softplus', 'softsign', 'relu', 'tanh', 'sigmoid', 'hard_sigmoid', 'linear'],\n",
    "              'activation3': ['softmax', 'softplus', 'softsign', 'relu', 'tanh', 'sigmoid', 'hard_sigmoid', 'linear']}\n",
    "\n",
    "\n",
    "grid_search = GridSearchCV(estimator = ann_model_optimization, \n",
    "                           param_grid = parameters,\n",
    "                           scoring = 'accuracy',\n",
    "                           cv = k_fold,\n",
    "                           n_jobs = -1)\n",
    "\n",
    "grid_search = grid_search.fit(X_standard, Y)\n",
    "print(grid_search)\n"
   ]
  },
  {
   "cell_type": "code",
   "execution_count": 50,
   "metadata": {},
   "outputs": [
    {
     "name": "stdout",
     "output_type": "stream",
     "text": [
      "     mean_test_score  std_test_score  \\\n",
      "0           0.154745        0.000324   \n",
      "1           1.000000        0.000000   \n",
      "2           0.891646        0.070934   \n",
      "3           0.953528        0.070811   \n",
      "4           0.907218        0.075757   \n",
      "..               ...             ...   \n",
      "507         1.000000        0.000000   \n",
      "508         0.984428        0.046446   \n",
      "509         1.000000        0.000000   \n",
      "510         1.000000        0.000000   \n",
      "511         1.000000        0.000000   \n",
      "\n",
      "                                                params  \n",
      "0    {'activation1': 'softmax', 'activation2': 'sof...  \n",
      "1    {'activation1': 'softmax', 'activation2': 'sof...  \n",
      "2    {'activation1': 'softmax', 'activation2': 'sof...  \n",
      "3    {'activation1': 'softmax', 'activation2': 'sof...  \n",
      "4    {'activation1': 'softmax', 'activation2': 'sof...  \n",
      "..                                                 ...  \n",
      "507  {'activation1': 'linear', 'activation2': 'line...  \n",
      "508  {'activation1': 'linear', 'activation2': 'line...  \n",
      "509  {'activation1': 'linear', 'activation2': 'line...  \n",
      "510  {'activation1': 'linear', 'activation2': 'line...  \n",
      "511  {'activation1': 'linear', 'activation2': 'line...  \n",
      "\n",
      "[512 rows x 3 columns]\n"
     ]
    }
   ],
   "source": [
    "# E.4. To View the Results of the GridSearchCV\n",
    "results = pd.DataFrame(grid_search.cv_results_)[['mean_test_score', 'std_test_score', 'params']]\n",
    "print(results)"
   ]
  },
  {
   "cell_type": "code",
   "execution_count": 51,
   "metadata": {},
   "outputs": [
    {
     "name": "stdout",
     "output_type": "stream",
     "text": [
      "Best Accuracy Score:\n",
      "1.0\n",
      " \n",
      "Best Parameters:\n",
      "{'activation1': 'softmax', 'activation2': 'softmax', 'activation3': 'softplus'}\n",
      " \n"
     ]
    }
   ],
   "source": [
    "# E.5. To Identify the Best Accuracy and the Best Features\n",
    "best_parameters_E = grid_search.best_params_\n",
    "best_accuracy = grid_search.best_score_\n",
    "\n",
    "print(\"Best Accuracy Score:\")\n",
    "print(best_accuracy)\n",
    "print(\" \")\n",
    "print(\"Best Parameters:\")\n",
    "print(best_parameters_E)\n",
    "print(\" \")\n"
   ]
  },
  {
   "cell_type": "markdown",
   "metadata": {},
   "source": [
    "### F. Tune Next the Dropout Regularization"
   ]
  },
  {
   "cell_type": "code",
   "execution_count": 67,
   "metadata": {},
   "outputs": [],
   "source": [
    "# F1. Build the ANN Model for the Optimization Process\n",
    "from scikeras.wrappers import KerasClassifier\n",
    "if best_parameters_B['optimizer'] == 'adam':\n",
    "    optimizer_setting = Adam(**best_parameters_C)\n",
    "elif best_parameters_B['optimizer'] == 'sgd':\n",
    "    optimizer_setting = SGD(**best_parameters_C)\n",
    "elif best_parameters_B['optimizer'] == 'rmsprop':\n",
    "    optimizer_setting = RMSprop(**best_parameters_C)\n",
    "elif best_parameters_B['optimizer'] == 'adamW':\n",
    "    optimizer_setting = AdamW(**best_parameters_C)\n",
    "elif best_parameters_B['optimizer'] == 'adadelta':\n",
    "    optimizer_setting = Adadelta(**best_parameters_C)\n",
    "elif best_parameters_B['optimizer'] == 'adagrad':\n",
    "    optimizer_setting = Adagrad(**best_parameters_C)\n",
    "elif best_parameters_B['optimizer'] == 'adamax':\n",
    "    optimizer_setting = Adamax(**best_parameters_C)\n",
    "elif best_parameters_B['optimizer'] == 'adafactor':\n",
    "    optimizer_setting = Adafactor(**best_parameters_C)\n",
    "elif best_parameters_B['optimizer'] == 'ftrl':\n",
    "    optimizer_setting = Ftrl(**best_parameters_C)\n",
    "elif best_parameters_B['optimizer'] == 'lion':\n",
    "    optimizer_setting = Lion(**best_parameters_C)\n",
    "\n",
    "def classifier_optimization(rate):\n",
    "    classifier_optimization = Sequential()\n",
    "    classifier_optimization.add(Dense(units = 14, **best_parameters_D, activation = best_parameters_E['activation1'], input_dim = 26))\n",
    "    classifier_optimization.add(Dropout(rate = rate))\n",
    "    classifier_optimization.add(Dense(units = 13, **best_parameters_D, activation = best_parameters_E['activation2']))\n",
    "    classifier_optimization.add(Dropout(rate = rate))\n",
    "    classifier_optimization.add(Dense(units = 1, **best_parameters_D, activation = best_parameters_E['activation3']))\n",
    "    classifier_optimization.add(Dropout(rate = rate))\n",
    "    classifier_optimization.compile(optimizer = optimizer_setting, loss = 'binary_crossentropy', metrics = ['accuracy'])\n",
    "    return classifier_optimization\n",
    "\n",
    "ann_model_optimization = KerasClassifier(model=classifier_optimization, verbose = 0, **best_parameters_A, rate = 0.0)\n"
   ]
  },
  {
   "cell_type": "code",
   "execution_count": 68,
   "metadata": {},
   "outputs": [
    {
     "name": "stdout",
     "output_type": "stream",
     "text": [
      "GridSearchCV(cv=StratifiedKFold(n_splits=10, random_state=0, shuffle=True),\n",
      "             estimator=KerasClassifier(batch_size=50, epochs=100, model=<function classifier_optimization at 0x000001EC0C40BCE0>, rate=0.0, verbose=0),\n",
      "             n_jobs=-1, param_grid={'rate': [0.0, 0.1, 0.2, 0.3, 0.6, 0.8]},\n",
      "             scoring='accuracy')\n"
     ]
    }
   ],
   "source": [
    "# F.3. To Set Parameters to be Optimized for the ANN Model\n",
    "parameters = {'rate': [0.0, 0.1, 0.2, 0.3, 0.6, 0.8]} # Pwede pang magdagdag\n",
    "\n",
    "grid_search = GridSearchCV(estimator = ann_model_optimization, \n",
    "                           param_grid = parameters,\n",
    "                           scoring = 'accuracy',\n",
    "                           cv = k_fold,\n",
    "                           n_jobs = -1)\n",
    "\n",
    "grid_search = grid_search.fit(X_standard, Y)\n",
    "print(grid_search)\n"
   ]
  },
  {
   "cell_type": "code",
   "execution_count": 69,
   "metadata": {},
   "outputs": [
    {
     "name": "stdout",
     "output_type": "stream",
     "text": [
      "   mean_test_score  std_test_score         params\n",
      "0         1.000000        0.000000  {'rate': 0.0}\n",
      "1         1.000000        0.000000  {'rate': 0.1}\n",
      "2         1.000000        0.000000  {'rate': 0.2}\n",
      "3         1.000000        0.000000  {'rate': 0.3}\n",
      "4         0.154745        0.000324  {'rate': 0.6}\n",
      "5         0.154745        0.000324  {'rate': 0.8}\n"
     ]
    }
   ],
   "source": [
    "# F.4. To View the Results of the GridSearchCV\n",
    "results = pd.DataFrame(grid_search.cv_results_)[['mean_test_score', 'std_test_score', 'params']]\n",
    "print(results)"
   ]
  },
  {
   "cell_type": "code",
   "execution_count": 70,
   "metadata": {},
   "outputs": [
    {
     "name": "stdout",
     "output_type": "stream",
     "text": [
      "Best Accuracy Score:\n",
      "1.0\n",
      " \n",
      "Best Parameters:\n",
      "{'rate': 0.0}\n",
      " \n"
     ]
    }
   ],
   "source": [
    "# F.5. To Identify the Best Accuracy and the Best Features\n",
    "best_parameters_F = grid_search.best_params_\n",
    "best_accuracy = grid_search.best_score_\n",
    "\n",
    "print(\"Best Accuracy Score:\")\n",
    "print(best_accuracy)\n",
    "print(\" \")\n",
    "print(\"Best Parameters:\")\n",
    "print(best_parameters_F)\n",
    "print(\" \")"
   ]
  },
  {
   "cell_type": "markdown",
   "metadata": {},
   "source": [
    "### G. Tune Next the Number of Neurons in the Hidden Layer"
   ]
  },
  {
   "cell_type": "code",
   "execution_count": 72,
   "metadata": {},
   "outputs": [],
   "source": [
    "# G1. Build the ANN Model for the Optimization Process\n",
    "if best_parameters_B['optimizer'] == 'adam':\n",
    "    optimizer_setting = Adam(**best_parameters_C)\n",
    "elif best_parameters_B['optimizer'] == 'sgd':\n",
    "    optimizer_setting = SGD(**best_parameters_C)\n",
    "elif best_parameters_B['optimizer'] == 'rmsprop':\n",
    "    optimizer_setting = RMSprop(**best_parameters_C)\n",
    "elif best_parameters_B['optimizer'] == 'adamW':\n",
    "    optimizer_setting = AdamW(**best_parameters_C)\n",
    "elif best_parameters_B['optimizer'] == 'adadelta':\n",
    "    optimizer_setting = Adadelta(**best_parameters_C)\n",
    "elif best_parameters_B['optimizer'] == 'adagrad':\n",
    "    optimizer_setting = Adagrad(**best_parameters_C)\n",
    "elif best_parameters_B['optimizer'] == 'adamax':\n",
    "    optimizer_setting = Adamax(**best_parameters_C)\n",
    "elif best_parameters_B['optimizer'] == 'adafactor':\n",
    "    optimizer_setting = Adafactor(**best_parameters_C)\n",
    "elif best_parameters_B['optimizer'] == 'ftrl':\n",
    "    optimizer_setting = Ftrl(**best_parameters_C)\n",
    "elif best_parameters_B['optimizer'] == 'lion':\n",
    "    optimizer_setting = Lion(**best_parameters_C)\n",
    "\n",
    "def classifier_optimization(neurons1, neurons2):\n",
    "    classifier_optimization = Sequential()\n",
    "    classifier_optimization.add(Dense(units = neurons1, **best_parameters_D, activation = best_parameters_E['activation1'], input_dim = 26))\n",
    "    classifier_optimization.add(Dropout(**best_parameters_F))\n",
    "    classifier_optimization.add(Dense(units = neurons2, **best_parameters_D, activation = best_parameters_E['activation2']))\n",
    "    classifier_optimization.add(Dropout(**best_parameters_F))\n",
    "    classifier_optimization.add(Dense(units = 1, **best_parameters_D, activation = best_parameters_E['activation3']))\n",
    "    classifier_optimization.add(Dropout(**best_parameters_F))\n",
    "    classifier_optimization.compile(optimizer = optimizer_setting, loss = 'binary_crossentropy', metrics = ['accuracy'])\n",
    "    return classifier_optimization\n",
    "\n",
    "ann_model_optimization = KerasClassifier(model=classifier_optimization, verbose = 0, **best_parameters_A, neurons1 = 5, neurons2 = 5)"
   ]
  },
  {
   "cell_type": "code",
   "execution_count": 73,
   "metadata": {},
   "outputs": [
    {
     "name": "stdout",
     "output_type": "stream",
     "text": [
      "GridSearchCV(cv=StratifiedKFold(n_splits=10, random_state=0, shuffle=True),\n",
      "             estimator=KerasClassifier(batch_size=50, epochs=100, model=<function classifier_optimization at 0x000001EC0C40BBA0>, neurons1=5, neurons2=5, verbose=0),\n",
      "             n_jobs=-1,\n",
      "             param_grid={'neurons1': [5, 10, 15, 20, 25, 30],\n",
      "                         'neurons2': [5, 10, 15, 20, 25, 30]},\n",
      "             scoring='accuracy')\n"
     ]
    }
   ],
   "source": [
    "# G.3. To Set Parameters to be Optimized for the ANN Model\n",
    "parameters = {'neurons1': [5, 10, 15, 20, 25, 30],\n",
    "              'neurons2': [5, 10, 15, 20, 25, 30]} \n",
    "\n",
    "grid_search = GridSearchCV(estimator = ann_model_optimization, \n",
    "                           param_grid = parameters,\n",
    "                           scoring = 'accuracy',\n",
    "                           cv = k_fold,\n",
    "                           n_jobs = -1)\n",
    "\n",
    "grid_search = grid_search.fit(X_standard, Y)\n",
    "print(grid_search)"
   ]
  },
  {
   "cell_type": "code",
   "execution_count": 74,
   "metadata": {},
   "outputs": [
    {
     "name": "stdout",
     "output_type": "stream",
     "text": [
      "    mean_test_score  std_test_score                            params\n",
      "0          1.000000        0.000000    {'neurons1': 5, 'neurons2': 5}\n",
      "1          0.999919        0.000243   {'neurons1': 5, 'neurons2': 10}\n",
      "2          0.999919        0.000243   {'neurons1': 5, 'neurons2': 15}\n",
      "3          1.000000        0.000000   {'neurons1': 5, 'neurons2': 20}\n",
      "4          1.000000        0.000000   {'neurons1': 5, 'neurons2': 25}\n",
      "5          1.000000        0.000000   {'neurons1': 5, 'neurons2': 30}\n",
      "6          1.000000        0.000000   {'neurons1': 10, 'neurons2': 5}\n",
      "7          0.999838        0.000487  {'neurons1': 10, 'neurons2': 10}\n",
      "8          1.000000        0.000000  {'neurons1': 10, 'neurons2': 15}\n",
      "9          1.000000        0.000000  {'neurons1': 10, 'neurons2': 20}\n",
      "10         0.999919        0.000243  {'neurons1': 10, 'neurons2': 25}\n",
      "11         1.000000        0.000000  {'neurons1': 10, 'neurons2': 30}\n",
      "12         1.000000        0.000000   {'neurons1': 15, 'neurons2': 5}\n",
      "13         1.000000        0.000000  {'neurons1': 15, 'neurons2': 10}\n",
      "14         0.999919        0.000243  {'neurons1': 15, 'neurons2': 15}\n",
      "15         0.999919        0.000243  {'neurons1': 15, 'neurons2': 20}\n",
      "16         1.000000        0.000000  {'neurons1': 15, 'neurons2': 25}\n",
      "17         1.000000        0.000000  {'neurons1': 15, 'neurons2': 30}\n",
      "18         0.999919        0.000243   {'neurons1': 20, 'neurons2': 5}\n",
      "19         1.000000        0.000000  {'neurons1': 20, 'neurons2': 10}\n",
      "20         1.000000        0.000000  {'neurons1': 20, 'neurons2': 15}\n",
      "21         1.000000        0.000000  {'neurons1': 20, 'neurons2': 20}\n",
      "22         0.999919        0.000243  {'neurons1': 20, 'neurons2': 25}\n",
      "23         1.000000        0.000000  {'neurons1': 20, 'neurons2': 30}\n",
      "24         1.000000        0.000000   {'neurons1': 25, 'neurons2': 5}\n",
      "25         0.999919        0.000243  {'neurons1': 25, 'neurons2': 10}\n",
      "26         1.000000        0.000000  {'neurons1': 25, 'neurons2': 15}\n",
      "27         0.999919        0.000243  {'neurons1': 25, 'neurons2': 20}\n",
      "28         1.000000        0.000000  {'neurons1': 25, 'neurons2': 25}\n",
      "29         1.000000        0.000000  {'neurons1': 25, 'neurons2': 30}\n",
      "30         1.000000        0.000000   {'neurons1': 30, 'neurons2': 5}\n",
      "31         0.999919        0.000243  {'neurons1': 30, 'neurons2': 10}\n",
      "32         0.999919        0.000243  {'neurons1': 30, 'neurons2': 15}\n",
      "33         1.000000        0.000000  {'neurons1': 30, 'neurons2': 20}\n",
      "34         1.000000        0.000000  {'neurons1': 30, 'neurons2': 25}\n",
      "35         0.999838        0.000324  {'neurons1': 30, 'neurons2': 30}\n"
     ]
    }
   ],
   "source": [
    "# G.4. To View the Results of the GridSearchCV\n",
    "results = pd.DataFrame(grid_search.cv_results_)[['mean_test_score', 'std_test_score', 'params']]\n",
    "print(results)"
   ]
  },
  {
   "cell_type": "code",
   "execution_count": 75,
   "metadata": {},
   "outputs": [
    {
     "name": "stdout",
     "output_type": "stream",
     "text": [
      "Best Accuracy Score:\n",
      "1.0\n",
      " \n",
      "Best Parameters:\n",
      "{'neurons1': 5, 'neurons2': 5}\n",
      " \n"
     ]
    }
   ],
   "source": [
    "# G.5. To Identify the Best Accuracy and the Best Features\n",
    "best_parameters_G = grid_search.best_params_\n",
    "best_accuracy = grid_search.best_score_\n",
    "\n",
    "print(\"Best Accuracy Score:\")\n",
    "print(best_accuracy)\n",
    "print(\" \")\n",
    "print(\"Best Parameters:\")\n",
    "print(best_parameters_G)\n",
    "print(\" \")"
   ]
  },
  {
   "cell_type": "markdown",
   "metadata": {},
   "source": [
    "## Part 8: Optimized Parameters"
   ]
  },
  {
   "cell_type": "markdown",
   "metadata": {},
   "source": [
    "#### Repeat Part 2: Building the Artificial Neural Network Model"
   ]
  },
  {
   "cell_type": "code",
   "execution_count": 114,
   "metadata": {},
   "outputs": [],
   "source": [
    "# B. Initialize the ANN\n",
    "classifier_final = Sequential()"
   ]
  },
  {
   "cell_type": "code",
   "execution_count": 115,
   "metadata": {},
   "outputs": [],
   "source": [
    "# C. Adding the Input Layer and the First Hidden Layer\n",
    "classifier_final.add(Dense(units = best_parameters_G['neurons1'], **best_parameters_D, activation = best_parameters_E['activation1'], input_dim = 26))\n",
    "classifier_final.add(Dropout(**best_parameters_F))"
   ]
  },
  {
   "cell_type": "code",
   "execution_count": 116,
   "metadata": {},
   "outputs": [],
   "source": [
    "# D. Adding the Second Hidden Layer\n",
    "classifier_final.add(Dense(units = best_parameters_G['neurons2'], **best_parameters_D, activation = best_parameters_E['activation2']))\n",
    "classifier_final.add(Dropout(**best_parameters_F))\n"
   ]
  },
  {
   "cell_type": "code",
   "execution_count": 117,
   "metadata": {},
   "outputs": [],
   "source": [
    "# E. Adding the Output Layer\n",
    "classifier_final.add(Dense(units = 1, **best_parameters_D, activation = best_parameters_E['activation3']))"
   ]
  },
  {
   "cell_type": "markdown",
   "metadata": {},
   "source": [
    "#### Repeat Part 3: Training the ANN Model"
   ]
  },
  {
   "cell_type": "code",
   "execution_count": 118,
   "metadata": {},
   "outputs": [],
   "source": [
    "# A. Compile the ANN Model\n",
    "if best_parameters_B['optimizer'] == 'adam':\n",
    "    optimizer_setting = Adam(**best_parameters_C)\n",
    "elif best_parameters_B['optimizer'] == 'sgd':\n",
    "    optimizer_setting = SGD(**best_parameters_C)\n",
    "elif best_parameters_B['optimizer'] == 'rmsprop':\n",
    "    optimizer_setting = RMSprop(**best_parameters_C)\n",
    "elif best_parameters_B['optimizer'] == 'adamW':\n",
    "    optimizer_setting = AdamW(**best_parameters_C)\n",
    "elif best_parameters_B['optimizer'] == 'adadelta':\n",
    "    optimizer_setting = Adadelta(**best_parameters_C)\n",
    "elif best_parameters_B['optimizer'] == 'adagrad':\n",
    "    optimizer_setting = Adagrad(**best_parameters_C)\n",
    "elif best_parameters_B['optimizer'] == 'adamax':\n",
    "    optimizer_setting = Adamax(**best_parameters_C)\n",
    "elif best_parameters_B['optimizer'] == 'adafactor':\n",
    "    optimizer_setting = Adafactor(**best_parameters_C)\n",
    "elif best_parameters_B['optimizer'] == 'ftrl':\n",
    "    optimizer_setting = Ftrl(**best_parameters_C)\n",
    "elif best_parameters_B['optimizer'] == 'lion':\n",
    "    optimizer_setting = Lion(**best_parameters_C)\n",
    "    \n",
    "classifier_final.compile(optimizer = optimizer_setting, loss = 'binary_crossentropy', metrics = ['accuracy'])"
   ]
  },
  {
   "cell_type": "code",
   "execution_count": 119,
   "metadata": {},
   "outputs": [
    {
     "name": "stdout",
     "output_type": "stream",
     "text": [
      "Epoch 1/50\n"
     ]
    },
    {
     "name": "stdout",
     "output_type": "stream",
     "text": [
      "987/987 [==============================] - 2s 1ms/step - loss: 0.1266 - accuracy: 0.9461\n",
      "Epoch 2/50\n",
      "987/987 [==============================] - 1s 1ms/step - loss: 0.0038 - accuracy: 1.0000\n",
      "Epoch 3/50\n",
      "987/987 [==============================] - 1s 1ms/step - loss: 0.0014 - accuracy: 1.0000\n",
      "Epoch 4/50\n",
      "987/987 [==============================] - 1s 1ms/step - loss: 6.6789e-04 - accuracy: 1.0000\n",
      "Epoch 5/50\n",
      "987/987 [==============================] - 1s 1ms/step - loss: 3.5821e-04 - accuracy: 1.0000\n",
      "Epoch 6/50\n",
      "987/987 [==============================] - 1s 1ms/step - loss: 2.0744e-04 - accuracy: 1.0000\n",
      "Epoch 7/50\n",
      "987/987 [==============================] - 1s 1ms/step - loss: 1.2536e-04 - accuracy: 1.0000\n",
      "Epoch 8/50\n",
      "987/987 [==============================] - 1s 1ms/step - loss: 7.1275e-05 - accuracy: 1.0000\n",
      "Epoch 9/50\n",
      "987/987 [==============================] - 1s 1ms/step - loss: 4.6955e-05 - accuracy: 1.0000\n",
      "Epoch 10/50\n",
      "987/987 [==============================] - 1s 1ms/step - loss: 2.7216e-05 - accuracy: 1.0000\n",
      "Epoch 11/50\n",
      "987/987 [==============================] - 1s 1ms/step - loss: 1.5962e-05 - accuracy: 1.0000\n",
      "Epoch 12/50\n",
      "987/987 [==============================] - 1s 1ms/step - loss: 1.2558e-05 - accuracy: 1.0000\n",
      "Epoch 13/50\n",
      "987/987 [==============================] - 1s 1ms/step - loss: 7.6143e-06 - accuracy: 1.0000\n",
      "Epoch 14/50\n",
      "987/987 [==============================] - 1s 1ms/step - loss: 4.4908e-06 - accuracy: 1.0000\n",
      "Epoch 15/50\n",
      "987/987 [==============================] - 1s 1ms/step - loss: 2.6624e-06 - accuracy: 1.0000\n",
      "Epoch 16/50\n",
      "987/987 [==============================] - 1s 1ms/step - loss: 1.5732e-06 - accuracy: 1.0000\n",
      "Epoch 17/50\n",
      "987/987 [==============================] - 1s 1ms/step - loss: 9.1639e-07 - accuracy: 1.0000\n",
      "Epoch 18/50\n",
      "987/987 [==============================] - 1s 1ms/step - loss: 5.1945e-07 - accuracy: 1.0000\n",
      "Epoch 19/50\n",
      "987/987 [==============================] - 1s 1ms/step - loss: 2.7691e-07 - accuracy: 1.0000\n",
      "Epoch 20/50\n",
      "987/987 [==============================] - 1s 1ms/step - loss: 1.3327e-07 - accuracy: 1.0000\n",
      "Epoch 21/50\n",
      "987/987 [==============================] - 1s 1ms/step - loss: 3.8770e-08 - accuracy: 1.0000\n",
      "Epoch 22/50\n",
      "987/987 [==============================] - 1s 1ms/step - loss: 0.0000e+00 - accuracy: 1.0000\n",
      "Epoch 23/50\n",
      "987/987 [==============================] - 1s 1ms/step - loss: 0.0000e+00 - accuracy: 1.0000\n",
      "Epoch 24/50\n",
      "987/987 [==============================] - 1s 1ms/step - loss: 0.0000e+00 - accuracy: 1.0000\n",
      "Epoch 25/50\n",
      "987/987 [==============================] - 1s 1ms/step - loss: 0.0000e+00 - accuracy: 1.0000\n",
      "Epoch 26/50\n",
      "987/987 [==============================] - 1s 1ms/step - loss: 0.0000e+00 - accuracy: 1.0000\n",
      "Epoch 27/50\n",
      "987/987 [==============================] - 1s 1ms/step - loss: 0.0000e+00 - accuracy: 1.0000\n",
      "Epoch 28/50\n",
      "987/987 [==============================] - 1s 1ms/step - loss: 0.0000e+00 - accuracy: 1.0000\n",
      "Epoch 29/50\n",
      "987/987 [==============================] - 1s 1ms/step - loss: 0.0000e+00 - accuracy: 1.0000\n",
      "Epoch 30/50\n",
      "987/987 [==============================] - 1s 1ms/step - loss: 0.0000e+00 - accuracy: 1.0000\n",
      "Epoch 31/50\n",
      "987/987 [==============================] - 1s 1ms/step - loss: 0.0000e+00 - accuracy: 1.0000\n",
      "Epoch 32/50\n",
      "987/987 [==============================] - 1s 1ms/step - loss: 0.0000e+00 - accuracy: 1.0000\n",
      "Epoch 33/50\n",
      "987/987 [==============================] - 1s 1ms/step - loss: 0.0000e+00 - accuracy: 1.0000\n",
      "Epoch 34/50\n",
      "987/987 [==============================] - 1s 1ms/step - loss: 0.0000e+00 - accuracy: 1.0000\n",
      "Epoch 35/50\n",
      "987/987 [==============================] - 1s 1ms/step - loss: 0.0000e+00 - accuracy: 1.0000\n",
      "Epoch 36/50\n",
      "987/987 [==============================] - 1s 1ms/step - loss: 0.0000e+00 - accuracy: 1.0000\n",
      "Epoch 37/50\n",
      "987/987 [==============================] - 1s 1ms/step - loss: 0.0000e+00 - accuracy: 1.0000\n",
      "Epoch 38/50\n",
      "987/987 [==============================] - 1s 1ms/step - loss: 0.0000e+00 - accuracy: 1.0000\n",
      "Epoch 39/50\n",
      "987/987 [==============================] - 1s 1ms/step - loss: 0.0000e+00 - accuracy: 1.0000\n",
      "Epoch 40/50\n",
      "987/987 [==============================] - 1s 1ms/step - loss: 0.0000e+00 - accuracy: 1.0000\n",
      "Epoch 41/50\n",
      "987/987 [==============================] - 1s 1ms/step - loss: 0.0000e+00 - accuracy: 1.0000\n",
      "Epoch 42/50\n",
      "987/987 [==============================] - 1s 1ms/step - loss: 0.0000e+00 - accuracy: 1.0000\n",
      "Epoch 43/50\n",
      "987/987 [==============================] - 1s 1ms/step - loss: 0.0000e+00 - accuracy: 1.0000\n",
      "Epoch 44/50\n",
      "987/987 [==============================] - 1s 1ms/step - loss: 0.0000e+00 - accuracy: 1.0000\n",
      "Epoch 45/50\n",
      "987/987 [==============================] - 1s 1ms/step - loss: 0.0000e+00 - accuracy: 1.0000\n",
      "Epoch 46/50\n",
      "987/987 [==============================] - 1s 1ms/step - loss: 0.0000e+00 - accuracy: 1.0000\n",
      "Epoch 47/50\n",
      "987/987 [==============================] - 1s 1ms/step - loss: 0.0000e+00 - accuracy: 1.0000\n",
      "Epoch 48/50\n",
      "987/987 [==============================] - 1s 1ms/step - loss: 0.0000e+00 - accuracy: 1.0000\n",
      "Epoch 49/50\n",
      "987/987 [==============================] - 1s 1ms/step - loss: 0.0000e+00 - accuracy: 1.0000\n",
      "Epoch 50/50\n",
      "987/987 [==============================] - 1s 1ms/step - loss: 0.0000e+00 - accuracy: 1.0000\n"
     ]
    },
    {
     "data": {
      "text/plain": [
       "<keras.src.callbacks.History at 0x1ec10ea1390>"
      ]
     },
     "execution_count": 119,
     "metadata": {},
     "output_type": "execute_result"
    }
   ],
   "source": [
    "# B. Fitting the ANN Model on the Training Dataset\n",
    "classifier_final.fit(X_train_standard, Y_train, batch_size = 10, epochs = 50)"
   ]
  },
  {
   "cell_type": "markdown",
   "metadata": {},
   "source": [
    "#### Repeat Part 4: Making Predictions and Evaluating the ANN Model"
   ]
  },
  {
   "cell_type": "code",
   "execution_count": 120,
   "metadata": {},
   "outputs": [
    {
     "name": "stdout",
     "output_type": "stream",
     "text": [
      "78/78 [==============================] - 0s 1ms/step\n"
     ]
    }
   ],
   "source": [
    "# A. Predict the Output of the Testing Dataset\n",
    "\n",
    "Y_predict_probability = classifier_final.predict(X_test_standard)\n",
    "Y_predict = np.rint(Y_predict_probability) "
   ]
  },
  {
   "cell_type": "code",
   "execution_count": 121,
   "metadata": {},
   "outputs": [
    {
     "data": {
      "text/plain": [
       "Text(95.72222222222221, 0.5, 'Actual Value')"
      ]
     },
     "execution_count": 121,
     "metadata": {},
     "output_type": "execute_result"
    },
    {
     "data": {
      "image/png": "[encoded data removed]",
      "text/plain": [
       "<Figure size 1000x700 with 2 Axes>"
      ]
     },
     "metadata": {},
     "output_type": "display_data"
    }
   ],
   "source": [
    "# B. To Generate and Plot the Confusion Matrix\n",
    "confusion_mx = confusion_matrix(Y_test, Y_predict)\n",
    "\n",
    "plt.figure(figsize = (10, 7))\n",
    "sns.heatmap(confusion_mx, annot = True)\n",
    "plt.xlabel('Predicted Value')\n",
    "plt.ylabel('Actual Value')"
   ]
  },
  {
   "cell_type": "code",
   "execution_count": 122,
   "metadata": {},
   "outputs": [
    {
     "name": "stdout",
     "output_type": "stream",
     "text": [
      "Hold-Out Accuracy:\n",
      "1.0\n",
      " \n"
     ]
    }
   ],
   "source": [
    "# C. Computing the Hold-Out Accuracy\n",
    "accuracy = accuracy_score(Y_test, Y_predict)\n",
    "print(\"Hold-Out Accuracy:\")\n",
    "print(accuracy)\n",
    "print(\" \")"
   ]
  },
  {
   "cell_type": "code",
   "execution_count": 123,
   "metadata": {},
   "outputs": [
    {
     "name": "stdout",
     "output_type": "stream",
     "text": [
      "Classification Report:\n",
      "              precision    recall  f1-score   support\n",
      "\n",
      "       False       1.00      1.00      1.00      2044\n",
      "        True       1.00      1.00      1.00       422\n",
      "\n",
      "    accuracy                           1.00      2466\n",
      "   macro avg       1.00      1.00      1.00      2466\n",
      "weighted avg       1.00      1.00      1.00      2466\n",
      "\n"
     ]
    }
   ],
   "source": [
    "# D. Generating the Classification Report\n",
    "print('Classification Report:')\n",
    "print(classification_report(Y_test, Y_predict))"
   ]
  },
  {
   "cell_type": "markdown",
   "metadata": {},
   "source": [
    "#### Repeat Part 5: Perform K-Fold Cross Validation to Assess the ANN Model Performance"
   ]
  },
  {
   "cell_type": "code",
   "execution_count": 124,
   "metadata": {},
   "outputs": [],
   "source": [
    "# A. To Feature SCale the X Variable Using the StandardScaler\n",
    "\n",
    "X_standard = X.copy()\n",
    "X_standard = ss.fit_transform(X_standard)"
   ]
  },
  {
   "cell_type": "code",
   "execution_count": 125,
   "metadata": {},
   "outputs": [],
   "source": [
    "# B. Building the ANN Classifier Using KerasClassifier\n",
    "def classifier():\n",
    "    classifier_final = Sequential()\n",
    "    classifier_final.add(Dense(units = best_parameters_G['neurons1'], **best_parameters_D, activation = best_parameters_E['activation1'], input_dim = 26))\n",
    "    classifier_final.add(Dropout(**best_parameters_F))\n",
    "    classifier_final.add(Dense(units = best_parameters_G['neurons2'], **best_parameters_D, activation = best_parameters_E['activation2']))\n",
    "    classifier_final.add(Dropout(**best_parameters_F))\n",
    "    classifier_final.add(Dense(units = 1, **best_parameters_D, activation = best_parameters_E['activation3']))\n",
    "    classifier_final.add(Dropout(**best_parameters_F))  \n",
    "    classifier_final.compile(optimizer = optimizer_setting, loss = 'binary_crossentropy', metrics = ['accuracy'])\n",
    "    return classifier_final\n",
    "\n",
    "ann_model = KerasClassifier(model=classifier, verbose = 0, **best_parameters_A)\n"
   ]
  },
  {
   "cell_type": "code",
   "execution_count": 126,
   "metadata": {},
   "outputs": [],
   "source": [
    "# D. Import the Cross Val Score Class\n",
    "k_fold = StratifiedKFold(n_splits = 10, shuffle = True, random_state=0)"
   ]
  },
  {
   "cell_type": "code",
   "execution_count": 127,
   "metadata": {},
   "outputs": [
    {
     "name": "stdout",
     "output_type": "stream",
     "text": [
      "Accuracies of k-folds: [1. 1. 1. 1. 1. 1. 1. 1. 1. 1.]\n",
      " \n",
      "Average of the Accuracies of k-folds: 1.0\n",
      " \n",
      "Standard Deviation of the Accuracies of k-foldsP: 0.0\n",
      " \n"
     ]
    }
   ],
   "source": [
    "# For the Accuracy as Scoring Metrics for the Cross-Validation\n",
    "accuracies = cross_val_score(estimator=ann_model, X = X_standard, y = Y, cv = k_fold, scoring = \"accuracy\", n_jobs = -1)\n",
    "accuracies_average = accuracies.mean()\n",
    "accuracies_standard_deviation = accuracies.std()\n",
    "\n",
    "print('Accuracies of k-folds:', accuracies)\n",
    "print(\" \")\n",
    "print(\"Average of the Accuracies of k-folds:\", accuracies_average)\n",
    "print(\" \")\n",
    "print('Standard Deviation of the Accuracies of k-foldsP:', accuracies_standard_deviation)\n",
    "print(\" \")\n"
   ]
  },
  {
   "cell_type": "code",
   "execution_count": 128,
   "metadata": {},
   "outputs": [
    {
     "name": "stdout",
     "output_type": "stream",
     "text": [
      "F1-Score of the k-folds: [1. 1. 1. 1. 1. 1. 1. 1. 1. 1.]\n",
      " \n",
      "Average of F1-Score of the k-folds: 1.0\n",
      " \n",
      "Standard Deviation of F1-Score of the k-fold: 0.0\n",
      " \n"
     ]
    }
   ],
   "source": [
    "# For the F1 as Scoring Metrics for the Cross-Validation\n",
    "f1 =  (cross_val_score(estimator = ann_model, X = X_standard, y = Y, cv = k_fold, scoring = 'f1', n_jobs = -1))\n",
    "f1_average = f1.mean()\n",
    "f1__standard_deviation = f1.std()\n",
    "\n",
    "print('F1-Score of the k-folds:', f1)\n",
    "print(\" \")\n",
    "print('Average of F1-Score of the k-folds:', f1_average)\n",
    "print(\" \")\n",
    "print('Standard Deviation of F1-Score of the k-fold:', f1__standard_deviation)\n",
    "print(' ')"
   ]
  },
  {
   "cell_type": "code",
   "execution_count": 129,
   "metadata": {},
   "outputs": [
    {
     "name": "stdout",
     "output_type": "stream",
     "text": [
      "Precision of the k-folds: [1. 1. 1. 1. 1. 1. 1. 1. 1. 1.]\n",
      " \n",
      "Average of Precision of the k-folds: 1.0\n",
      " \n",
      "Standard Deviation of Precision of the k-fold: 0.0\n",
      " \n"
     ]
    }
   ],
   "source": [
    "# For the Precision as Scoring Metrics for the Cross-Validation\n",
    "precision =  (cross_val_score(estimator = ann_model, X = X_standard, y = Y, cv = k_fold, scoring = 'precision', n_jobs = -1))\n",
    "precision_average = precision.mean()\n",
    "precision__standard_deviation = precision.std()\n",
    "\n",
    "print('Precision of the k-folds:', precision)\n",
    "print(\" \")\n",
    "print('Average of Precision of the k-folds:', precision_average)\n",
    "print(\" \")\n",
    "print('Standard Deviation of Precision of the k-fold:', precision__standard_deviation)\n",
    "print(' ')"
   ]
  },
  {
   "cell_type": "code",
   "execution_count": 130,
   "metadata": {},
   "outputs": [
    {
     "name": "stdout",
     "output_type": "stream",
     "text": [
      "Recall of the k-folds: [1. 1. 1. 1. 1. 1. 1. 1. 1. 1.]\n",
      " \n",
      "Average of Recall of the k-folds: 1.0\n",
      " \n",
      "Standard Deviation of Recall of the k-fold: 0.0\n",
      " \n"
     ]
    }
   ],
   "source": [
    "# For the Recall as Scoring Metrics for the Cross-Validation\n",
    "recall =  (cross_val_score(estimator = ann_model, X = X_standard, y = Y, cv = k_fold, scoring = 'recall', n_jobs = -1))\n",
    "recall_average = recall.mean()\n",
    "recall__standard_deviation = recall.std()\n",
    "\n",
    "print('Recall of the k-folds:', recall)\n",
    "print(\" \")\n",
    "print('Average of Recall of the k-folds:', recall_average)\n",
    "print(\" \")\n",
    "print('Standard Deviation of Recall of the k-fold:', recall__standard_deviation)\n",
    "print(' ')"
   ]
  },
  {
   "cell_type": "code",
   "execution_count": 131,
   "metadata": {},
   "outputs": [
    {
     "name": "stdout",
     "output_type": "stream",
     "text": [
      "ROC-AUC of the k-folds: [1. 1. 1. 1. 1. 1. 1. 1. 1. 1.]\n",
      " \n",
      "Average of ROC-AUC of the k-folds: 1.0\n",
      " \n",
      "Standard Deviation of ROC-AUC of the k-fold: 0.0\n",
      " \n"
     ]
    }
   ],
   "source": [
    "# For the Roc-Auc as Scoring Metrics for the Cross-Validation\n",
    "rocauc =  (cross_val_score(estimator = ann_model, X = X_standard, y = Y, cv = k_fold, scoring = 'roc_auc', n_jobs = -1))\n",
    "rocauc_average = rocauc.mean()\n",
    "rocauc__standard_deviation = rocauc.std()\n",
    "\n",
    "print('ROC-AUC of the k-folds:', rocauc)\n",
    "print(\" \")\n",
    "print('Average of ROC-AUC of the k-folds:', rocauc_average)\n",
    "print(\" \")\n",
    "print('Standard Deviation of ROC-AUC of the k-fold:', rocauc__standard_deviation)\n",
    "print(' ')"
   ]
  },
  {
   "cell_type": "markdown",
   "metadata": {},
   "source": [
    "### Part 6: Hold Out Validation"
   ]
  },
  {
   "cell_type": "code",
   "execution_count": 132,
   "metadata": {},
   "outputs": [
    {
     "name": "stdout",
     "output_type": "stream",
     "text": [
      "Classification Accuracy: 1.0000\n",
      "\n"
     ]
    }
   ],
   "source": [
    "# A. For the Classification Accuracy\n",
    "\n",
    "classification_accuracy = accuracy_score(Y_test, Y_predict)\n",
    "print('Classification Accuracy: %.4f'\n",
    "      %classification_accuracy)\n",
    "print('')\n"
   ]
  },
  {
   "cell_type": "code",
   "execution_count": 133,
   "metadata": {},
   "outputs": [
    {
     "name": "stdout",
     "output_type": "stream",
     "text": [
      "Classification Error: 0.0000\n",
      "\n"
     ]
    }
   ],
   "source": [
    "# B. For the Classification Error\n",
    "classification_error = 1 - classification_accuracy\n",
    "print('Classification Error: %.4f'\n",
    "      %classification_error)\n",
    "print('')"
   ]
  },
  {
   "cell_type": "code",
   "execution_count": 138,
   "metadata": {},
   "outputs": [
    {
     "name": "stdout",
     "output_type": "stream",
     "text": [
      "Sensitivity: 1.0000\n",
      "\n"
     ]
    }
   ],
   "source": [
    "# C. For the Sensitivity, Recall Score, Probablity of Detection, True Positive Rate\n",
    "sensitivity = recall_score(Y_test, Y_predict, average = 'weighted')\n",
    "print('Sensitivity: %.4f'\n",
    "      %sensitivity)\n",
    "print('')"
   ]
  },
  {
   "cell_type": "code",
   "execution_count": 140,
   "metadata": {},
   "outputs": [
    {
     "name": "stdout",
     "output_type": "stream",
     "text": [
      "Precision Score: 1.0000\n",
      "\n"
     ]
    }
   ],
   "source": [
    "# G. For the Precision or Positive Predictive Value\n",
    "precision = precision_score(Y_test, Y_predict, average = 'weighted')\n",
    "print('Precision Score: %.4f'\n",
    "      %precision)\n",
    "print('')"
   ]
  },
  {
   "cell_type": "code",
   "execution_count": 141,
   "metadata": {},
   "outputs": [
    {
     "name": "stdout",
     "output_type": "stream",
     "text": [
      "F1-Score: 1.0000\n",
      "\n"
     ]
    }
   ],
   "source": [
    "# H. For the F1-Score\n",
    "f1 = f1_score(Y_test, Y_predict, average = 'weighted')\n",
    "print('F1-Score: %.4f'\n",
    "      %f1)\n",
    "print('')"
   ]
  }
 ],
 "metadata": {
  "kernelspec": {
   "display_name": "base",
   "language": "python",
   "name": "python3"
  },
  "language_info": {
   "codemirror_mode": {
    "name": "ipython",
    "version": 3
   },
   "file_extension": ".py",
   "mimetype": "text/x-python",
   "name": "python",
   "nbconvert_exporter": "python",
   "pygments_lexer": "ipython3",
   "version": "3.11.9"
  }
 },
 "nbformat": 4,
 "nbformat_minor": 2
}
